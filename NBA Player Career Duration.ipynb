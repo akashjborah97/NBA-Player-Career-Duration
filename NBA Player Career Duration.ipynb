{
 "cells": [
  {
   "cell_type": "code",
   "execution_count": 1,
   "id": "8782a425",
   "metadata": {},
   "outputs": [],
   "source": [
    "import numpy as np\n",
    "import pandas as pd\n",
    "import matplotlib.pyplot as plt"
   ]
  },
  {
   "cell_type": "code",
   "execution_count": 2,
   "id": "0b930183",
   "metadata": {},
   "outputs": [
    {
     "name": "stdout",
     "output_type": "stream",
     "text": [
      "<class 'pandas.core.frame.DataFrame'>\n",
      "RangeIndex: 1340 entries, 0 to 1339\n",
      "Data columns (total 22 columns):\n",
      " #   Column       Non-Null Count  Dtype  \n",
      "---  ------       --------------  -----  \n",
      " 0   Unnamed: 0   1340 non-null   int64  \n",
      " 1   name         1340 non-null   object \n",
      " 2   gp           1340 non-null   int64  \n",
      " 3   min          1340 non-null   float64\n",
      " 4   pts          1340 non-null   float64\n",
      " 5   fgm          1340 non-null   float64\n",
      " 6   fga          1340 non-null   float64\n",
      " 7   fg           1340 non-null   float64\n",
      " 8   3p_made      1340 non-null   float64\n",
      " 9   3pa          1340 non-null   float64\n",
      " 10  3p           1340 non-null   float64\n",
      " 11  ftm          1340 non-null   float64\n",
      " 12  fta          1340 non-null   float64\n",
      " 13  ft           1340 non-null   float64\n",
      " 14  oreb         1340 non-null   float64\n",
      " 15  dreb         1340 non-null   float64\n",
      " 16  reb          1340 non-null   float64\n",
      " 17  ast          1340 non-null   float64\n",
      " 18  stl          1340 non-null   float64\n",
      " 19  blk          1340 non-null   float64\n",
      " 20  tov          1340 non-null   float64\n",
      " 21  target_5yrs  1340 non-null   int64  \n",
      "dtypes: float64(18), int64(3), object(1)\n",
      "memory usage: 230.4+ KB\n"
     ]
    }
   ],
   "source": [
    "data= pd.read_csv('nba-players.csv') \n",
    "data.info()"
   ]
  },
  {
   "cell_type": "code",
   "execution_count": 6,
   "id": "797c3359",
   "metadata": {},
   "outputs": [
    {
     "data": {
      "text/html": [
       "<div>\n",
       "<style scoped>\n",
       "    .dataframe tbody tr th:only-of-type {\n",
       "        vertical-align: middle;\n",
       "    }\n",
       "\n",
       "    .dataframe tbody tr th {\n",
       "        vertical-align: top;\n",
       "    }\n",
       "\n",
       "    .dataframe thead th {\n",
       "        text-align: right;\n",
       "    }\n",
       "</style>\n",
       "<table border=\"1\" class=\"dataframe\">\n",
       "  <thead>\n",
       "    <tr style=\"text-align: right;\">\n",
       "      <th></th>\n",
       "      <th>Unnamed: 0</th>\n",
       "      <th>name</th>\n",
       "      <th>gp</th>\n",
       "      <th>min</th>\n",
       "      <th>pts</th>\n",
       "      <th>fgm</th>\n",
       "      <th>fga</th>\n",
       "      <th>fg</th>\n",
       "      <th>3p_made</th>\n",
       "      <th>3pa</th>\n",
       "      <th>...</th>\n",
       "      <th>fta</th>\n",
       "      <th>ft</th>\n",
       "      <th>oreb</th>\n",
       "      <th>dreb</th>\n",
       "      <th>reb</th>\n",
       "      <th>ast</th>\n",
       "      <th>stl</th>\n",
       "      <th>blk</th>\n",
       "      <th>tov</th>\n",
       "      <th>target_5yrs</th>\n",
       "    </tr>\n",
       "  </thead>\n",
       "  <tbody>\n",
       "    <tr>\n",
       "      <th>0</th>\n",
       "      <td>0</td>\n",
       "      <td>Brandon Ingram</td>\n",
       "      <td>36</td>\n",
       "      <td>27.4</td>\n",
       "      <td>7.4</td>\n",
       "      <td>2.6</td>\n",
       "      <td>7.6</td>\n",
       "      <td>34.7</td>\n",
       "      <td>0.5</td>\n",
       "      <td>2.1</td>\n",
       "      <td>...</td>\n",
       "      <td>2.3</td>\n",
       "      <td>69.9</td>\n",
       "      <td>0.7</td>\n",
       "      <td>3.4</td>\n",
       "      <td>4.1</td>\n",
       "      <td>1.9</td>\n",
       "      <td>0.4</td>\n",
       "      <td>0.4</td>\n",
       "      <td>1.3</td>\n",
       "      <td>0</td>\n",
       "    </tr>\n",
       "    <tr>\n",
       "      <th>1</th>\n",
       "      <td>1</td>\n",
       "      <td>Andrew Harrison</td>\n",
       "      <td>35</td>\n",
       "      <td>26.9</td>\n",
       "      <td>7.2</td>\n",
       "      <td>2.0</td>\n",
       "      <td>6.7</td>\n",
       "      <td>29.6</td>\n",
       "      <td>0.7</td>\n",
       "      <td>2.8</td>\n",
       "      <td>...</td>\n",
       "      <td>3.4</td>\n",
       "      <td>76.5</td>\n",
       "      <td>0.5</td>\n",
       "      <td>2.0</td>\n",
       "      <td>2.4</td>\n",
       "      <td>3.7</td>\n",
       "      <td>1.1</td>\n",
       "      <td>0.5</td>\n",
       "      <td>1.6</td>\n",
       "      <td>0</td>\n",
       "    </tr>\n",
       "    <tr>\n",
       "      <th>2</th>\n",
       "      <td>2</td>\n",
       "      <td>JaKarr Sampson</td>\n",
       "      <td>74</td>\n",
       "      <td>15.3</td>\n",
       "      <td>5.2</td>\n",
       "      <td>2.0</td>\n",
       "      <td>4.7</td>\n",
       "      <td>42.2</td>\n",
       "      <td>0.4</td>\n",
       "      <td>1.7</td>\n",
       "      <td>...</td>\n",
       "      <td>1.3</td>\n",
       "      <td>67.0</td>\n",
       "      <td>0.5</td>\n",
       "      <td>1.7</td>\n",
       "      <td>2.2</td>\n",
       "      <td>1.0</td>\n",
       "      <td>0.5</td>\n",
       "      <td>0.3</td>\n",
       "      <td>1.0</td>\n",
       "      <td>0</td>\n",
       "    </tr>\n",
       "    <tr>\n",
       "      <th>3</th>\n",
       "      <td>3</td>\n",
       "      <td>Malik Sealy</td>\n",
       "      <td>58</td>\n",
       "      <td>11.6</td>\n",
       "      <td>5.7</td>\n",
       "      <td>2.3</td>\n",
       "      <td>5.5</td>\n",
       "      <td>42.6</td>\n",
       "      <td>0.1</td>\n",
       "      <td>0.5</td>\n",
       "      <td>...</td>\n",
       "      <td>1.3</td>\n",
       "      <td>68.9</td>\n",
       "      <td>1.0</td>\n",
       "      <td>0.9</td>\n",
       "      <td>1.9</td>\n",
       "      <td>0.8</td>\n",
       "      <td>0.6</td>\n",
       "      <td>0.1</td>\n",
       "      <td>1.0</td>\n",
       "      <td>1</td>\n",
       "    </tr>\n",
       "    <tr>\n",
       "      <th>4</th>\n",
       "      <td>4</td>\n",
       "      <td>Matt Geiger</td>\n",
       "      <td>48</td>\n",
       "      <td>11.5</td>\n",
       "      <td>4.5</td>\n",
       "      <td>1.6</td>\n",
       "      <td>3.0</td>\n",
       "      <td>52.4</td>\n",
       "      <td>0.0</td>\n",
       "      <td>0.1</td>\n",
       "      <td>...</td>\n",
       "      <td>1.9</td>\n",
       "      <td>67.4</td>\n",
       "      <td>1.0</td>\n",
       "      <td>1.5</td>\n",
       "      <td>2.5</td>\n",
       "      <td>0.3</td>\n",
       "      <td>0.3</td>\n",
       "      <td>0.4</td>\n",
       "      <td>0.8</td>\n",
       "      <td>1</td>\n",
       "    </tr>\n",
       "    <tr>\n",
       "      <th>5</th>\n",
       "      <td>5</td>\n",
       "      <td>Tony Bennett</td>\n",
       "      <td>75</td>\n",
       "      <td>11.4</td>\n",
       "      <td>3.7</td>\n",
       "      <td>1.5</td>\n",
       "      <td>3.5</td>\n",
       "      <td>42.3</td>\n",
       "      <td>0.3</td>\n",
       "      <td>1.1</td>\n",
       "      <td>...</td>\n",
       "      <td>0.5</td>\n",
       "      <td>73.2</td>\n",
       "      <td>0.2</td>\n",
       "      <td>0.7</td>\n",
       "      <td>0.8</td>\n",
       "      <td>1.8</td>\n",
       "      <td>0.4</td>\n",
       "      <td>0.0</td>\n",
       "      <td>0.7</td>\n",
       "      <td>0</td>\n",
       "    </tr>\n",
       "    <tr>\n",
       "      <th>6</th>\n",
       "      <td>6</td>\n",
       "      <td>Don MacLean</td>\n",
       "      <td>62</td>\n",
       "      <td>10.9</td>\n",
       "      <td>6.6</td>\n",
       "      <td>2.5</td>\n",
       "      <td>5.8</td>\n",
       "      <td>43.5</td>\n",
       "      <td>0.0</td>\n",
       "      <td>0.1</td>\n",
       "      <td>...</td>\n",
       "      <td>1.8</td>\n",
       "      <td>81.1</td>\n",
       "      <td>0.5</td>\n",
       "      <td>1.4</td>\n",
       "      <td>2.0</td>\n",
       "      <td>0.6</td>\n",
       "      <td>0.2</td>\n",
       "      <td>0.1</td>\n",
       "      <td>0.7</td>\n",
       "      <td>1</td>\n",
       "    </tr>\n",
       "    <tr>\n",
       "      <th>7</th>\n",
       "      <td>7</td>\n",
       "      <td>Tracy Murray</td>\n",
       "      <td>48</td>\n",
       "      <td>10.3</td>\n",
       "      <td>5.7</td>\n",
       "      <td>2.3</td>\n",
       "      <td>5.4</td>\n",
       "      <td>41.5</td>\n",
       "      <td>0.4</td>\n",
       "      <td>1.5</td>\n",
       "      <td>...</td>\n",
       "      <td>0.8</td>\n",
       "      <td>87.5</td>\n",
       "      <td>0.8</td>\n",
       "      <td>0.9</td>\n",
       "      <td>1.7</td>\n",
       "      <td>0.2</td>\n",
       "      <td>0.2</td>\n",
       "      <td>0.1</td>\n",
       "      <td>0.7</td>\n",
       "      <td>1</td>\n",
       "    </tr>\n",
       "    <tr>\n",
       "      <th>8</th>\n",
       "      <td>8</td>\n",
       "      <td>Duane Cooper</td>\n",
       "      <td>65</td>\n",
       "      <td>9.9</td>\n",
       "      <td>2.4</td>\n",
       "      <td>1.0</td>\n",
       "      <td>2.4</td>\n",
       "      <td>39.2</td>\n",
       "      <td>0.1</td>\n",
       "      <td>0.5</td>\n",
       "      <td>...</td>\n",
       "      <td>0.5</td>\n",
       "      <td>71.4</td>\n",
       "      <td>0.2</td>\n",
       "      <td>0.6</td>\n",
       "      <td>0.8</td>\n",
       "      <td>2.3</td>\n",
       "      <td>0.3</td>\n",
       "      <td>0.0</td>\n",
       "      <td>1.1</td>\n",
       "      <td>0</td>\n",
       "    </tr>\n",
       "    <tr>\n",
       "      <th>9</th>\n",
       "      <td>9</td>\n",
       "      <td>Dave Johnson</td>\n",
       "      <td>42</td>\n",
       "      <td>8.5</td>\n",
       "      <td>3.7</td>\n",
       "      <td>1.4</td>\n",
       "      <td>3.5</td>\n",
       "      <td>38.3</td>\n",
       "      <td>0.1</td>\n",
       "      <td>0.3</td>\n",
       "      <td>...</td>\n",
       "      <td>1.4</td>\n",
       "      <td>67.8</td>\n",
       "      <td>0.4</td>\n",
       "      <td>0.7</td>\n",
       "      <td>1.1</td>\n",
       "      <td>0.3</td>\n",
       "      <td>0.2</td>\n",
       "      <td>0.0</td>\n",
       "      <td>0.7</td>\n",
       "      <td>0</td>\n",
       "    </tr>\n",
       "  </tbody>\n",
       "</table>\n",
       "<p>10 rows × 22 columns</p>\n",
       "</div>"
      ],
      "text/plain": [
       "   Unnamed: 0             name  gp   min  pts  fgm  fga    fg  3p_made  3pa  \\\n",
       "0           0   Brandon Ingram  36  27.4  7.4  2.6  7.6  34.7      0.5  2.1   \n",
       "1           1  Andrew Harrison  35  26.9  7.2  2.0  6.7  29.6      0.7  2.8   \n",
       "2           2   JaKarr Sampson  74  15.3  5.2  2.0  4.7  42.2      0.4  1.7   \n",
       "3           3      Malik Sealy  58  11.6  5.7  2.3  5.5  42.6      0.1  0.5   \n",
       "4           4      Matt Geiger  48  11.5  4.5  1.6  3.0  52.4      0.0  0.1   \n",
       "5           5     Tony Bennett  75  11.4  3.7  1.5  3.5  42.3      0.3  1.1   \n",
       "6           6      Don MacLean  62  10.9  6.6  2.5  5.8  43.5      0.0  0.1   \n",
       "7           7     Tracy Murray  48  10.3  5.7  2.3  5.4  41.5      0.4  1.5   \n",
       "8           8     Duane Cooper  65   9.9  2.4  1.0  2.4  39.2      0.1  0.5   \n",
       "9           9     Dave Johnson  42   8.5  3.7  1.4  3.5  38.3      0.1  0.3   \n",
       "\n",
       "   ...  fta    ft  oreb  dreb  reb  ast  stl  blk  tov  target_5yrs  \n",
       "0  ...  2.3  69.9   0.7   3.4  4.1  1.9  0.4  0.4  1.3            0  \n",
       "1  ...  3.4  76.5   0.5   2.0  2.4  3.7  1.1  0.5  1.6            0  \n",
       "2  ...  1.3  67.0   0.5   1.7  2.2  1.0  0.5  0.3  1.0            0  \n",
       "3  ...  1.3  68.9   1.0   0.9  1.9  0.8  0.6  0.1  1.0            1  \n",
       "4  ...  1.9  67.4   1.0   1.5  2.5  0.3  0.3  0.4  0.8            1  \n",
       "5  ...  0.5  73.2   0.2   0.7  0.8  1.8  0.4  0.0  0.7            0  \n",
       "6  ...  1.8  81.1   0.5   1.4  2.0  0.6  0.2  0.1  0.7            1  \n",
       "7  ...  0.8  87.5   0.8   0.9  1.7  0.2  0.2  0.1  0.7            1  \n",
       "8  ...  0.5  71.4   0.2   0.6  0.8  2.3  0.3  0.0  1.1            0  \n",
       "9  ...  1.4  67.8   0.4   0.7  1.1  0.3  0.2  0.0  0.7            0  \n",
       "\n",
       "[10 rows x 22 columns]"
      ]
     },
     "execution_count": 6,
     "metadata": {},
     "output_type": "execute_result"
    }
   ],
   "source": [
    "data.head(10)"
   ]
  },
  {
   "cell_type": "markdown",
   "id": "3d9b18a8",
   "metadata": {},
   "source": [
    "# Checking the dataset distribution "
   ]
  },
  {
   "cell_type": "code",
   "execution_count": 7,
   "id": "20982f50",
   "metadata": {},
   "outputs": [
    {
     "data": {
      "text/plain": [
       "1    0.620149\n",
       "0    0.379851\n",
       "Name: target_5yrs, dtype: float64"
      ]
     },
     "execution_count": 7,
     "metadata": {},
     "output_type": "execute_result"
    }
   ],
   "source": [
    "data['target_5yrs'].value_counts()/len(data)"
   ]
  },
  {
   "cell_type": "markdown",
   "id": "9826a05d",
   "metadata": {},
   "source": [
    "# Seperating dependent and independent variable"
   ]
  },
  {
   "cell_type": "code",
   "execution_count": 8,
   "id": "521a1763",
   "metadata": {},
   "outputs": [],
   "source": [
    "X=data.drop(columns=['target_5yrs','Unnamed: 0','name'])"
   ]
  },
  {
   "cell_type": "code",
   "execution_count": 9,
   "id": "5fb97295",
   "metadata": {},
   "outputs": [],
   "source": [
    "Y=data['target_5yrs']"
   ]
  },
  {
   "cell_type": "markdown",
   "id": "9c2bbae8",
   "metadata": {},
   "source": [
    "# Scaling the dataset"
   ]
  },
  {
   "cell_type": "code",
   "execution_count": 10,
   "id": "1a752503",
   "metadata": {},
   "outputs": [],
   "source": [
    "from sklearn.preprocessing import StandardScaler\n",
    "scaler=StandardScaler()\n",
    "scaled_X=scaler.fit_transform(X)"
   ]
  },
  {
   "cell_type": "markdown",
   "id": "b69c986a",
   "metadata": {},
   "source": [
    "# Splitting the dataset"
   ]
  },
  {
   "cell_type": "code",
   "execution_count": 11,
   "id": "96a8f715",
   "metadata": {},
   "outputs": [
    {
     "data": {
      "text/plain": [
       "((1072, 19), (268, 19), (1072,), (268,))"
      ]
     },
     "execution_count": 11,
     "metadata": {},
     "output_type": "execute_result"
    }
   ],
   "source": [
    "from sklearn.model_selection import train_test_split as tts\n",
    "x_train,x_test,y_train,y_test=tts(scaled_X,Y,train_size=0.80,stratify=Y)\n",
    "x_train.shape,x_test.shape,y_train.shape,y_test.shape"
   ]
  },
  {
   "cell_type": "markdown",
   "id": "bcf88586",
   "metadata": {},
   "source": [
    "# Model Building, predictions and odds ratio"
   ]
  },
  {
   "cell_type": "code",
   "execution_count": 12,
   "id": "b4b0e9a8",
   "metadata": {},
   "outputs": [
    {
     "data": {
      "text/plain": [
       "(array([[0.27552145, 0.72447855],\n",
       "        [0.53091105, 0.46908895],\n",
       "        [0.66858784, 0.33141216],\n",
       "        [0.66086523, 0.33913477],\n",
       "        [0.14816522, 0.85183478],\n",
       "        [0.32892219, 0.67107781],\n",
       "        [0.83914319, 0.16085681],\n",
       "        [0.80053719, 0.19946281],\n",
       "        [0.24181809, 0.75818191],\n",
       "        [0.64775372, 0.35224628],\n",
       "        [0.20793845, 0.79206155],\n",
       "        [0.35850628, 0.64149372],\n",
       "        [0.18076362, 0.81923638],\n",
       "        [0.27665127, 0.72334873],\n",
       "        [0.35154341, 0.64845659],\n",
       "        [0.17698094, 0.82301906],\n",
       "        [0.51998362, 0.48001638],\n",
       "        [0.62101799, 0.37898201],\n",
       "        [0.59705721, 0.40294279],\n",
       "        [0.7947573 , 0.2052427 ],\n",
       "        [0.79796831, 0.20203169],\n",
       "        [0.7358304 , 0.2641696 ],\n",
       "        [0.52509565, 0.47490435],\n",
       "        [0.6192527 , 0.3807473 ],\n",
       "        [0.42572519, 0.57427481],\n",
       "        [0.80753773, 0.19246227],\n",
       "        [0.58281443, 0.41718557],\n",
       "        [0.74609007, 0.25390993],\n",
       "        [0.69092723, 0.30907277],\n",
       "        [0.13446282, 0.86553718],\n",
       "        [0.7069958 , 0.2930042 ],\n",
       "        [0.51878864, 0.48121136],\n",
       "        [0.15230062, 0.84769938],\n",
       "        [0.05550325, 0.94449675],\n",
       "        [0.79762374, 0.20237626],\n",
       "        [0.6052204 , 0.3947796 ],\n",
       "        [0.74540433, 0.25459567],\n",
       "        [0.36010354, 0.63989646],\n",
       "        [0.55277932, 0.44722068],\n",
       "        [0.74447703, 0.25552297],\n",
       "        [0.07277387, 0.92722613],\n",
       "        [0.28936241, 0.71063759],\n",
       "        [0.56956697, 0.43043303],\n",
       "        [0.69118688, 0.30881312],\n",
       "        [0.23130627, 0.76869373],\n",
       "        [0.68899529, 0.31100471],\n",
       "        [0.79394486, 0.20605514],\n",
       "        [0.80895734, 0.19104266],\n",
       "        [0.2303525 , 0.7696475 ],\n",
       "        [0.75689834, 0.24310166],\n",
       "        [0.17653676, 0.82346324],\n",
       "        [0.55321086, 0.44678914],\n",
       "        [0.43631507, 0.56368493],\n",
       "        [0.7077795 , 0.2922205 ],\n",
       "        [0.53099533, 0.46900467],\n",
       "        [0.37932737, 0.62067263],\n",
       "        [0.34585893, 0.65414107],\n",
       "        [0.31779009, 0.68220991],\n",
       "        [0.71129206, 0.28870794],\n",
       "        [0.21762037, 0.78237963],\n",
       "        [0.34149539, 0.65850461],\n",
       "        [0.69693986, 0.30306014],\n",
       "        [0.19095706, 0.80904294],\n",
       "        [0.4713269 , 0.5286731 ],\n",
       "        [0.58471644, 0.41528356],\n",
       "        [0.18083516, 0.81916484],\n",
       "        [0.50023153, 0.49976847],\n",
       "        [0.61235672, 0.38764328],\n",
       "        [0.20519663, 0.79480337],\n",
       "        [0.35245871, 0.64754129],\n",
       "        [0.40367068, 0.59632932],\n",
       "        [0.44687838, 0.55312162],\n",
       "        [0.46072754, 0.53927246],\n",
       "        [0.13159194, 0.86840806],\n",
       "        [0.85721421, 0.14278579],\n",
       "        [0.79071167, 0.20928833],\n",
       "        [0.31031061, 0.68968939],\n",
       "        [0.29195614, 0.70804386],\n",
       "        [0.41521468, 0.58478532],\n",
       "        [0.23091082, 0.76908918],\n",
       "        [0.52130335, 0.47869665],\n",
       "        [0.29767347, 0.70232653],\n",
       "        [0.39348594, 0.60651406],\n",
       "        [0.26049955, 0.73950045],\n",
       "        [0.46143638, 0.53856362],\n",
       "        [0.41180807, 0.58819193],\n",
       "        [0.33382185, 0.66617815],\n",
       "        [0.26695644, 0.73304356],\n",
       "        [0.07763865, 0.92236135],\n",
       "        [0.22652928, 0.77347072],\n",
       "        [0.58748535, 0.41251465],\n",
       "        [0.70582917, 0.29417083],\n",
       "        [0.17372405, 0.82627595],\n",
       "        [0.93609038, 0.06390962],\n",
       "        [0.33745137, 0.66254863],\n",
       "        [0.42226481, 0.57773519],\n",
       "        [0.33045609, 0.66954391],\n",
       "        [0.27863801, 0.72136199],\n",
       "        [0.51236663, 0.48763337],\n",
       "        [0.18109453, 0.81890547],\n",
       "        [0.76107729, 0.23892271],\n",
       "        [0.77369199, 0.22630801],\n",
       "        [0.6489496 , 0.3510504 ],\n",
       "        [0.09642768, 0.90357232],\n",
       "        [0.52367918, 0.47632082],\n",
       "        [0.36625136, 0.63374864],\n",
       "        [0.78725562, 0.21274438],\n",
       "        [0.22779261, 0.77220739],\n",
       "        [0.41938398, 0.58061602],\n",
       "        [0.69307444, 0.30692556],\n",
       "        [0.80642242, 0.19357758],\n",
       "        [0.79799154, 0.20200846],\n",
       "        [0.86704122, 0.13295878],\n",
       "        [0.77239765, 0.22760235],\n",
       "        [0.46206788, 0.53793212],\n",
       "        [0.74532579, 0.25467421],\n",
       "        [0.23077461, 0.76922539],\n",
       "        [0.11039106, 0.88960894],\n",
       "        [0.79699003, 0.20300997],\n",
       "        [0.2974124 , 0.7025876 ],\n",
       "        [0.70916006, 0.29083994],\n",
       "        [0.74061142, 0.25938858],\n",
       "        [0.84374253, 0.15625747],\n",
       "        [0.56209384, 0.43790616],\n",
       "        [0.88711381, 0.11288619],\n",
       "        [0.87423712, 0.12576288],\n",
       "        [0.78525689, 0.21474311],\n",
       "        [0.60902789, 0.39097211],\n",
       "        [0.89359248, 0.10640752],\n",
       "        [0.71674668, 0.28325332],\n",
       "        [0.27641657, 0.72358343],\n",
       "        [0.24714046, 0.75285954],\n",
       "        [0.54031443, 0.45968557],\n",
       "        [0.67234685, 0.32765315],\n",
       "        [0.38886344, 0.61113656],\n",
       "        [0.47285964, 0.52714036],\n",
       "        [0.62857587, 0.37142413],\n",
       "        [0.39645684, 0.60354316],\n",
       "        [0.22110039, 0.77889961],\n",
       "        [0.43053136, 0.56946864],\n",
       "        [0.19731228, 0.80268772],\n",
       "        [0.38401542, 0.61598458],\n",
       "        [0.27368066, 0.72631934],\n",
       "        [0.75898955, 0.24101045],\n",
       "        [0.61456397, 0.38543603],\n",
       "        [0.74147849, 0.25852151],\n",
       "        [0.23206404, 0.76793596],\n",
       "        [0.32810615, 0.67189385],\n",
       "        [0.21054233, 0.78945767],\n",
       "        [0.07553862, 0.92446138],\n",
       "        [0.47732286, 0.52267714],\n",
       "        [0.67400523, 0.32599477],\n",
       "        [0.4630172 , 0.5369828 ],\n",
       "        [0.51568092, 0.48431908],\n",
       "        [0.60036563, 0.39963437],\n",
       "        [0.26952418, 0.73047582],\n",
       "        [0.58059633, 0.41940367],\n",
       "        [0.55866569, 0.44133431],\n",
       "        [0.80380357, 0.19619643],\n",
       "        [0.13875008, 0.86124992],\n",
       "        [0.14983156, 0.85016844],\n",
       "        [0.77967159, 0.22032841],\n",
       "        [0.03734247, 0.96265753],\n",
       "        [0.70677   , 0.29323   ],\n",
       "        [0.29654368, 0.70345632],\n",
       "        [0.50682129, 0.49317871],\n",
       "        [0.11174526, 0.88825474],\n",
       "        [0.47584837, 0.52415163],\n",
       "        [0.42590806, 0.57409194],\n",
       "        [0.91576851, 0.08423149],\n",
       "        [0.61631013, 0.38368987],\n",
       "        [0.47082795, 0.52917205],\n",
       "        [0.75862689, 0.24137311],\n",
       "        [0.49869897, 0.50130103],\n",
       "        [0.31350988, 0.68649012],\n",
       "        [0.27618704, 0.72381296],\n",
       "        [0.15771358, 0.84228642],\n",
       "        [0.70512872, 0.29487128],\n",
       "        [0.58037909, 0.41962091],\n",
       "        [0.47130782, 0.52869218],\n",
       "        [0.19922687, 0.80077313],\n",
       "        [0.75215367, 0.24784633],\n",
       "        [0.73529749, 0.26470251],\n",
       "        [0.79772376, 0.20227624],\n",
       "        [0.36768667, 0.63231333],\n",
       "        [0.26793001, 0.73206999],\n",
       "        [0.19492659, 0.80507341],\n",
       "        [0.33493088, 0.66506912],\n",
       "        [0.82041387, 0.17958613],\n",
       "        [0.21968269, 0.78031731],\n",
       "        [0.25836595, 0.74163405],\n",
       "        [0.83214569, 0.16785431],\n",
       "        [0.80454668, 0.19545332],\n",
       "        [0.5472509 , 0.4527491 ],\n",
       "        [0.15594427, 0.84405573],\n",
       "        [0.23412805, 0.76587195],\n",
       "        [0.12912391, 0.87087609],\n",
       "        [0.29699096, 0.70300904],\n",
       "        [0.80031134, 0.19968866],\n",
       "        [0.25132608, 0.74867392],\n",
       "        [0.39534656, 0.60465344],\n",
       "        [0.25240568, 0.74759432],\n",
       "        [0.76703867, 0.23296133],\n",
       "        [0.618284  , 0.381716  ],\n",
       "        [0.15010798, 0.84989202],\n",
       "        [0.7422975 , 0.2577025 ],\n",
       "        [0.42769198, 0.57230802],\n",
       "        [0.8201707 , 0.1798293 ],\n",
       "        [0.57328127, 0.42671873],\n",
       "        [0.15976974, 0.84023026],\n",
       "        [0.51197231, 0.48802769],\n",
       "        [0.84723375, 0.15276625],\n",
       "        [0.32198569, 0.67801431],\n",
       "        [0.75313655, 0.24686345],\n",
       "        [0.74030815, 0.25969185],\n",
       "        [0.63635639, 0.36364361],\n",
       "        [0.4490601 , 0.5509399 ],\n",
       "        [0.85237919, 0.14762081],\n",
       "        [0.58212863, 0.41787137],\n",
       "        [0.90711635, 0.09288365],\n",
       "        [0.63252063, 0.36747937],\n",
       "        [0.31067583, 0.68932417],\n",
       "        [0.83727782, 0.16272218],\n",
       "        [0.7322756 , 0.2677244 ],\n",
       "        [0.5778646 , 0.4221354 ],\n",
       "        [0.09036395, 0.90963605],\n",
       "        [0.55644514, 0.44355486],\n",
       "        [0.20098345, 0.79901655],\n",
       "        [0.69431954, 0.30568046],\n",
       "        [0.27262607, 0.72737393],\n",
       "        [0.62755312, 0.37244688],\n",
       "        [0.51938306, 0.48061694],\n",
       "        [0.57260947, 0.42739053],\n",
       "        [0.30729365, 0.69270635],\n",
       "        [0.81052301, 0.18947699],\n",
       "        [0.62273967, 0.37726033],\n",
       "        [0.30065847, 0.69934153],\n",
       "        [0.60507301, 0.39492699],\n",
       "        [0.16133936, 0.83866064],\n",
       "        [0.32440104, 0.67559896],\n",
       "        [0.53134035, 0.46865965],\n",
       "        [0.1918335 , 0.8081665 ],\n",
       "        [0.68948418, 0.31051582],\n",
       "        [0.70888563, 0.29111437],\n",
       "        [0.26665168, 0.73334832],\n",
       "        [0.40476265, 0.59523735],\n",
       "        [0.15769339, 0.84230661],\n",
       "        [0.79105876, 0.20894124],\n",
       "        [0.49288762, 0.50711238],\n",
       "        [0.56227457, 0.43772543],\n",
       "        [0.04557423, 0.95442577],\n",
       "        [0.61301468, 0.38698532],\n",
       "        [0.74983607, 0.25016393],\n",
       "        [0.13312143, 0.86687857],\n",
       "        [0.62851567, 0.37148433],\n",
       "        [0.29968728, 0.70031272],\n",
       "        [0.5865392 , 0.4134608 ],\n",
       "        [0.2521057 , 0.7478943 ],\n",
       "        [0.5321769 , 0.4678231 ],\n",
       "        [0.17967213, 0.82032787],\n",
       "        [0.39701753, 0.60298247],\n",
       "        [0.63280735, 0.36719265],\n",
       "        [0.17037138, 0.82962862],\n",
       "        [0.80731466, 0.19268534],\n",
       "        [0.16059935, 0.83940065],\n",
       "        [0.30337706, 0.69662294],\n",
       "        [0.08950225, 0.91049775],\n",
       "        [0.20561463, 0.79438537]]),\n",
       " (268, 2))"
      ]
     },
     "execution_count": 12,
     "metadata": {},
     "output_type": "execute_result"
    }
   ],
   "source": [
    "from sklearn.linear_model import LogisticRegression as LR\n",
    "classifier=LR(class_weight='balanced')\n",
    "classifier.fit(x_train,y_train)\n",
    "predicted_values=classifier.predict(x_test)\n",
    "predicted_probabilities=classifier.predict_proba(x_test)\n",
    "predicted_values\n",
    "predicted_probabilities,predicted_probabilities.shape"
   ]
  },
  {
   "cell_type": "markdown",
   "id": "da81dfe8",
   "metadata": {},
   "source": [
    "# Confusion matrix"
   ]
  },
  {
   "cell_type": "code",
   "execution_count": 13,
   "id": "db2dc21f",
   "metadata": {},
   "outputs": [
    {
     "data": {
      "text/plain": [
       "array([[ 72,  30],\n",
       "       [ 61, 105]])"
      ]
     },
     "execution_count": 13,
     "metadata": {},
     "output_type": "execute_result"
    }
   ],
   "source": [
    "from sklearn.metrics import confusion_matrix\n",
    "cf=confusion_matrix(y_test,predicted_values)\n",
    "cf"
   ]
  },
  {
   "cell_type": "markdown",
   "id": "ce45d4ce",
   "metadata": {},
   "source": [
    "1. Accuracy"
   ]
  },
  {
   "cell_type": "code",
   "execution_count": 14,
   "id": "454d5b48",
   "metadata": {},
   "outputs": [
    {
     "data": {
      "text/plain": [
       "0.6604477611940298"
      ]
     },
     "execution_count": 14,
     "metadata": {},
     "output_type": "execute_result"
    }
   ],
   "source": [
    "classifier.score(x_test,y_test)"
   ]
  },
  {
   "cell_type": "markdown",
   "id": "56483f18",
   "metadata": {},
   "source": [
    "2. Calculating the precision score"
   ]
  },
  {
   "cell_type": "code",
   "execution_count": 16,
   "id": "1750c4b1",
   "metadata": {},
   "outputs": [],
   "source": [
    "from sklearn.metrics import precision_recall_fscore_support as PRF_summary\n",
    "precision,recall,f1,support=PRF_summary(y_test,predicted_values)"
   ]
  },
  {
   "cell_type": "code",
   "execution_count": 17,
   "id": "403c2521",
   "metadata": {},
   "outputs": [
    {
     "data": {
      "text/plain": [
       "array([0.54135338, 0.77777778])"
      ]
     },
     "execution_count": 17,
     "metadata": {},
     "output_type": "execute_result"
    }
   ],
   "source": [
    "precision"
   ]
  },
  {
   "cell_type": "code",
   "execution_count": 18,
   "id": "307cb9dd",
   "metadata": {},
   "outputs": [
    {
     "data": {
      "text/plain": [
       "array([0.70588235, 0.63253012])"
      ]
     },
     "execution_count": 18,
     "metadata": {},
     "output_type": "execute_result"
    }
   ],
   "source": [
    "recall"
   ]
  },
  {
   "cell_type": "code",
   "execution_count": 19,
   "id": "9e0f9be3",
   "metadata": {},
   "outputs": [
    {
     "data": {
      "text/plain": [
       "array([0.61276596, 0.69767442])"
      ]
     },
     "execution_count": 19,
     "metadata": {},
     "output_type": "execute_result"
    }
   ],
   "source": [
    "f1"
   ]
  },
  {
   "cell_type": "code",
   "execution_count": 21,
   "id": "793ec321",
   "metadata": {},
   "outputs": [
    {
     "data": {
      "text/plain": [
       "array([102, 166])"
      ]
     },
     "execution_count": 21,
     "metadata": {},
     "output_type": "execute_result"
    }
   ],
   "source": [
    "support #support is nothing but the no of instances for class 1 and class 0"
   ]
  },
  {
   "cell_type": "markdown",
   "id": "f1fe56ef",
   "metadata": {},
   "source": [
    "Only for representation"
   ]
  },
  {
   "cell_type": "code",
   "execution_count": 22,
   "id": "508bf904",
   "metadata": {},
   "outputs": [
    {
     "name": "stdout",
     "output_type": "stream",
     "text": [
      "              precision    recall  f1-score   support\n",
      "\n",
      "           0       0.54      0.71      0.61       102\n",
      "           1       0.78      0.63      0.70       166\n",
      "\n",
      "    accuracy                           0.66       268\n",
      "   macro avg       0.66      0.67      0.66       268\n",
      "weighted avg       0.69      0.66      0.67       268\n",
      "\n"
     ]
    }
   ],
   "source": [
    "from sklearn.metrics import classification_report\n",
    "k=classification_report(y_test,predicted_values)\n",
    "print(k)"
   ]
  },
  {
   "cell_type": "markdown",
   "id": "203a9726",
   "metadata": {},
   "source": [
    "# Precision-Recall Curve"
   ]
  },
  {
   "cell_type": "code",
   "execution_count": 23,
   "id": "966a537a",
   "metadata": {},
   "outputs": [
    {
     "data": {
      "text/plain": [
       "((267,), (267,), (266,))"
      ]
     },
     "execution_count": 23,
     "metadata": {},
     "output_type": "execute_result"
    }
   ],
   "source": [
    "#gathering Precision/recall scores from different threshold\n",
    "from sklearn.metrics import precision_recall_curve\n",
    "precision_points,recall_points,threshold_points=precision_recall_curve(y_test,predicted_probabilities[:,1])\n",
    "precision_points.shape,recall_points.shape,threshold_points.shape"
   ]
  },
  {
   "cell_type": "code",
   "execution_count": 24,
   "id": "52b87414",
   "metadata": {},
   "outputs": [
    {
     "data": {
      "text/plain": [
       "<matplotlib.legend.Legend at 0x7fa10b1d6b80>"
      ]
     },
     "execution_count": 24,
     "metadata": {},
     "output_type": "execute_result"
    },
    {
     "data": {
      "image/png": "[encoded data removed]",
      "text/plain": [
       "<Figure size 700x500 with 1 Axes>"
      ]
     },
     "metadata": {
      "needs_background": "light"
     },
     "output_type": "display_data"
    }
   ],
   "source": [
    "#compare if threshold is less than precision & recall \n",
    "#if less -1 minus in plotting\n",
    "plt.figure(figsize=(7,5),dpi=100)\n",
    "plt.plot(threshold_points,precision_points[:-1],color='green',label='Precision')\n",
    "plt.plot(threshold_points,recall_points[:-1],color='orange',label='Recall')\n",
    "plt.xlabel('Threshold Points',fontsize=15)\n",
    "plt.ylabel('Score',fontsize=15)\n",
    "plt.title('Precision-Recall tradeoff',fontsize=20)\n",
    "plt.legend()"
   ]
  },
  {
   "cell_type": "markdown",
   "id": "314e36ee",
   "metadata": {},
   "source": [
    "# AUC-ROC Curve"
   ]
  },
  {
   "cell_type": "code",
   "execution_count": 25,
   "id": "ab51bab2",
   "metadata": {},
   "outputs": [
    {
     "data": {
      "image/png": "[encoded data removed]",
      "text/plain": [
       "<Figure size 700x500 with 1 Axes>"
      ]
     },
     "metadata": {
      "needs_background": "light"
     },
     "output_type": "display_data"
    },
    {
     "data": {
      "text/plain": [
       "0.7217694306638318"
      ]
     },
     "execution_count": 25,
     "metadata": {},
     "output_type": "execute_result"
    }
   ],
   "source": [
    "from sklearn.metrics import roc_curve,roc_auc_score\n",
    "fpr,tpr,threshold=roc_curve(y_test,predicted_probabilities[:,1])\n",
    "plt.figure(figsize=(7,5),dpi=100)\n",
    "plt.plot(fpr,tpr,color='green')\n",
    "plt.plot([0,1],[0,1],label='baseline',color='red')\n",
    "plt.xlabel('FPR',fontsize=15)\n",
    "plt.ylabel('TPR',fontsize=15)\n",
    "plt.title('AUC-ROC',fontsize=20)\n",
    "plt.show()\n",
    "roc_auc_score(y_test,predicted_probabilities[:,1])"
   ]
  },
  {
   "cell_type": "markdown",
   "id": "baa90b22",
   "metadata": {},
   "source": [
    "# Coefficients Plot"
   ]
  },
  {
   "cell_type": "code",
   "execution_count": 26,
   "id": "84be276f",
   "metadata": {},
   "outputs": [
    {
     "data": {
      "text/html": [
       "<div>\n",
       "<style scoped>\n",
       "    .dataframe tbody tr th:only-of-type {\n",
       "        vertical-align: middle;\n",
       "    }\n",
       "\n",
       "    .dataframe tbody tr th {\n",
       "        vertical-align: top;\n",
       "    }\n",
       "\n",
       "    .dataframe thead th {\n",
       "        text-align: right;\n",
       "    }\n",
       "</style>\n",
       "<table border=\"1\" class=\"dataframe\">\n",
       "  <thead>\n",
       "    <tr style=\"text-align: right;\">\n",
       "      <th></th>\n",
       "      <th>coefficients</th>\n",
       "      <th>variable</th>\n",
       "    </tr>\n",
       "  </thead>\n",
       "  <tbody>\n",
       "    <tr>\n",
       "      <th>7</th>\n",
       "      <td>-0.947709</td>\n",
       "      <td>3pa</td>\n",
       "    </tr>\n",
       "    <tr>\n",
       "      <th>1</th>\n",
       "      <td>-0.312066</td>\n",
       "      <td>min</td>\n",
       "    </tr>\n",
       "    <tr>\n",
       "      <th>13</th>\n",
       "      <td>-0.306607</td>\n",
       "      <td>dreb</td>\n",
       "    </tr>\n",
       "    <tr>\n",
       "      <th>3</th>\n",
       "      <td>-0.197285</td>\n",
       "      <td>fgm</td>\n",
       "    </tr>\n",
       "    <tr>\n",
       "      <th>2</th>\n",
       "      <td>-0.155536</td>\n",
       "      <td>pts</td>\n",
       "    </tr>\n",
       "  </tbody>\n",
       "</table>\n",
       "</div>"
      ],
      "text/plain": [
       "    coefficients variable\n",
       "7      -0.947709      3pa\n",
       "1      -0.312066      min\n",
       "13     -0.306607     dreb\n",
       "3      -0.197285      fgm\n",
       "2      -0.155536      pts"
      ]
     },
     "execution_count": 26,
     "metadata": {},
     "output_type": "execute_result"
    }
   ],
   "source": [
    "#arranging the data\n",
    "c=classifier.coef_.reshape(-1)\n",
    "x=X.columns\n",
    "coeff_plot=pd.DataFrame({\n",
    "    'coefficients':c,\n",
    "    'variable':x\n",
    "})\n",
    "#sorting the values\n",
    "coeff_plot=coeff_plot.sort_values(by='coefficients')\n",
    "coeff_plot.head()"
   ]
  },
  {
   "cell_type": "code",
   "execution_count": 28,
   "id": "d04452ee",
   "metadata": {},
   "outputs": [
    {
     "data": {
      "text/plain": [
       "Text(0.5, 1.0, 'Coefficients plot')"
      ]
     },
     "execution_count": 28,
     "metadata": {},
     "output_type": "execute_result"
    },
    {
     "data": {
      "image/png": "[encoded data removed]",
      "text/plain": [
       "<Figure size 960x720 with 1 Axes>"
      ]
     },
     "metadata": {
      "needs_background": "light"
     },
     "output_type": "display_data"
    }
   ],
   "source": [
    "plt.figure(figsize=(8,6),dpi=120)\n",
    "plt.barh(coeff_plot['variable'],coeff_plot['coefficients'])\n",
    "plt.xlabel(\"Coefficients Magnitude\",fontsize=15)\n",
    "plt.ylabel('variables',fontsize=15)\n",
    "plt.title('Coefficients plot',fontsize=20)"
   ]
  },
  {
   "cell_type": "code",
   "execution_count": null,
   "id": "b33c6d74",
   "metadata": {},
   "outputs": [],
   "source": []
  }
 ],
 "metadata": {
  "kernelspec": {
   "display_name": "Python 3",
   "language": "python",
   "name": "python3"
  },
  "language_info": {
   "codemirror_mode": {
    "name": "ipython",
    "version": 3
   },
   "file_extension": ".py",
   "mimetype": "text/x-python",
   "name": "python",
   "nbconvert_exporter": "python",
   "pygments_lexer": "ipython3",
   "version": "3.8.8"
  }
 },
 "nbformat": 4,
 "nbformat_minor": 5
}
