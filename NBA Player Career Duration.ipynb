{
 "cells": [
  {
   "cell_type": "code",
   "execution_count": 74,
   "id": "8782a425",
   "metadata": {},
   "outputs": [],
   "source": [
    "import numpy as np\n",
    "import pandas as pd\n",
    "import matplotlib.pyplot as plt"
   ]
  },
  {
   "cell_type": "code",
   "execution_count": 75,
   "id": "0b930183",
   "metadata": {},
   "outputs": [
    {
     "name": "stdout",
     "output_type": "stream",
     "text": [
      "<class 'pandas.core.frame.DataFrame'>\n",
      "RangeIndex: 1340 entries, 0 to 1339\n",
      "Data columns (total 22 columns):\n",
      " #   Column       Non-Null Count  Dtype  \n",
      "---  ------       --------------  -----  \n",
      " 0   Unnamed: 0   1340 non-null   int64  \n",
      " 1   name         1340 non-null   object \n",
      " 2   gp           1340 non-null   int64  \n",
      " 3   min          1340 non-null   float64\n",
      " 4   pts          1340 non-null   float64\n",
      " 5   fgm          1340 non-null   float64\n",
      " 6   fga          1340 non-null   float64\n",
      " 7   fg           1340 non-null   float64\n",
      " 8   3p_made      1340 non-null   float64\n",
      " 9   3pa          1340 non-null   float64\n",
      " 10  3p           1340 non-null   float64\n",
      " 11  ftm          1340 non-null   float64\n",
      " 12  fta          1340 non-null   float64\n",
      " 13  ft           1340 non-null   float64\n",
      " 14  oreb         1340 non-null   float64\n",
      " 15  dreb         1340 non-null   float64\n",
      " 16  reb          1340 non-null   float64\n",
      " 17  ast          1340 non-null   float64\n",
      " 18  stl          1340 non-null   float64\n",
      " 19  blk          1340 non-null   float64\n",
      " 20  tov          1340 non-null   float64\n",
      " 21  target_5yrs  1340 non-null   int64  \n",
      "dtypes: float64(18), int64(3), object(1)\n",
      "memory usage: 230.4+ KB\n"
     ]
    }
   ],
   "source": [
    "data= pd.read_csv('nba-players.csv') \n",
    "data.info()"
   ]
  },
  {
   "cell_type": "code",
   "execution_count": 76,
   "id": "797c3359",
   "metadata": {},
   "outputs": [
    {
     "data": {
      "text/html": [
       "<div>\n",
       "<style scoped>\n",
       "    .dataframe tbody tr th:only-of-type {\n",
       "        vertical-align: middle;\n",
       "    }\n",
       "\n",
       "    .dataframe tbody tr th {\n",
       "        vertical-align: top;\n",
       "    }\n",
       "\n",
       "    .dataframe thead th {\n",
       "        text-align: right;\n",
       "    }\n",
       "</style>\n",
       "<table border=\"1\" class=\"dataframe\">\n",
       "  <thead>\n",
       "    <tr style=\"text-align: right;\">\n",
       "      <th></th>\n",
       "      <th>Unnamed: 0</th>\n",
       "      <th>name</th>\n",
       "      <th>gp</th>\n",
       "      <th>min</th>\n",
       "      <th>pts</th>\n",
       "      <th>fgm</th>\n",
       "      <th>fga</th>\n",
       "      <th>fg</th>\n",
       "      <th>3p_made</th>\n",
       "      <th>3pa</th>\n",
       "      <th>...</th>\n",
       "      <th>fta</th>\n",
       "      <th>ft</th>\n",
       "      <th>oreb</th>\n",
       "      <th>dreb</th>\n",
       "      <th>reb</th>\n",
       "      <th>ast</th>\n",
       "      <th>stl</th>\n",
       "      <th>blk</th>\n",
       "      <th>tov</th>\n",
       "      <th>target_5yrs</th>\n",
       "    </tr>\n",
       "  </thead>\n",
       "  <tbody>\n",
       "    <tr>\n",
       "      <th>0</th>\n",
       "      <td>0</td>\n",
       "      <td>Brandon Ingram</td>\n",
       "      <td>36</td>\n",
       "      <td>27.4</td>\n",
       "      <td>7.4</td>\n",
       "      <td>2.6</td>\n",
       "      <td>7.6</td>\n",
       "      <td>34.7</td>\n",
       "      <td>0.5</td>\n",
       "      <td>2.1</td>\n",
       "      <td>...</td>\n",
       "      <td>2.3</td>\n",
       "      <td>69.9</td>\n",
       "      <td>0.7</td>\n",
       "      <td>3.4</td>\n",
       "      <td>4.1</td>\n",
       "      <td>1.9</td>\n",
       "      <td>0.4</td>\n",
       "      <td>0.4</td>\n",
       "      <td>1.3</td>\n",
       "      <td>0</td>\n",
       "    </tr>\n",
       "    <tr>\n",
       "      <th>1</th>\n",
       "      <td>1</td>\n",
       "      <td>Andrew Harrison</td>\n",
       "      <td>35</td>\n",
       "      <td>26.9</td>\n",
       "      <td>7.2</td>\n",
       "      <td>2.0</td>\n",
       "      <td>6.7</td>\n",
       "      <td>29.6</td>\n",
       "      <td>0.7</td>\n",
       "      <td>2.8</td>\n",
       "      <td>...</td>\n",
       "      <td>3.4</td>\n",
       "      <td>76.5</td>\n",
       "      <td>0.5</td>\n",
       "      <td>2.0</td>\n",
       "      <td>2.4</td>\n",
       "      <td>3.7</td>\n",
       "      <td>1.1</td>\n",
       "      <td>0.5</td>\n",
       "      <td>1.6</td>\n",
       "      <td>0</td>\n",
       "    </tr>\n",
       "    <tr>\n",
       "      <th>2</th>\n",
       "      <td>2</td>\n",
       "      <td>JaKarr Sampson</td>\n",
       "      <td>74</td>\n",
       "      <td>15.3</td>\n",
       "      <td>5.2</td>\n",
       "      <td>2.0</td>\n",
       "      <td>4.7</td>\n",
       "      <td>42.2</td>\n",
       "      <td>0.4</td>\n",
       "      <td>1.7</td>\n",
       "      <td>...</td>\n",
       "      <td>1.3</td>\n",
       "      <td>67.0</td>\n",
       "      <td>0.5</td>\n",
       "      <td>1.7</td>\n",
       "      <td>2.2</td>\n",
       "      <td>1.0</td>\n",
       "      <td>0.5</td>\n",
       "      <td>0.3</td>\n",
       "      <td>1.0</td>\n",
       "      <td>0</td>\n",
       "    </tr>\n",
       "    <tr>\n",
       "      <th>3</th>\n",
       "      <td>3</td>\n",
       "      <td>Malik Sealy</td>\n",
       "      <td>58</td>\n",
       "      <td>11.6</td>\n",
       "      <td>5.7</td>\n",
       "      <td>2.3</td>\n",
       "      <td>5.5</td>\n",
       "      <td>42.6</td>\n",
       "      <td>0.1</td>\n",
       "      <td>0.5</td>\n",
       "      <td>...</td>\n",
       "      <td>1.3</td>\n",
       "      <td>68.9</td>\n",
       "      <td>1.0</td>\n",
       "      <td>0.9</td>\n",
       "      <td>1.9</td>\n",
       "      <td>0.8</td>\n",
       "      <td>0.6</td>\n",
       "      <td>0.1</td>\n",
       "      <td>1.0</td>\n",
       "      <td>1</td>\n",
       "    </tr>\n",
       "    <tr>\n",
       "      <th>4</th>\n",
       "      <td>4</td>\n",
       "      <td>Matt Geiger</td>\n",
       "      <td>48</td>\n",
       "      <td>11.5</td>\n",
       "      <td>4.5</td>\n",
       "      <td>1.6</td>\n",
       "      <td>3.0</td>\n",
       "      <td>52.4</td>\n",
       "      <td>0.0</td>\n",
       "      <td>0.1</td>\n",
       "      <td>...</td>\n",
       "      <td>1.9</td>\n",
       "      <td>67.4</td>\n",
       "      <td>1.0</td>\n",
       "      <td>1.5</td>\n",
       "      <td>2.5</td>\n",
       "      <td>0.3</td>\n",
       "      <td>0.3</td>\n",
       "      <td>0.4</td>\n",
       "      <td>0.8</td>\n",
       "      <td>1</td>\n",
       "    </tr>\n",
       "    <tr>\n",
       "      <th>5</th>\n",
       "      <td>5</td>\n",
       "      <td>Tony Bennett</td>\n",
       "      <td>75</td>\n",
       "      <td>11.4</td>\n",
       "      <td>3.7</td>\n",
       "      <td>1.5</td>\n",
       "      <td>3.5</td>\n",
       "      <td>42.3</td>\n",
       "      <td>0.3</td>\n",
       "      <td>1.1</td>\n",
       "      <td>...</td>\n",
       "      <td>0.5</td>\n",
       "      <td>73.2</td>\n",
       "      <td>0.2</td>\n",
       "      <td>0.7</td>\n",
       "      <td>0.8</td>\n",
       "      <td>1.8</td>\n",
       "      <td>0.4</td>\n",
       "      <td>0.0</td>\n",
       "      <td>0.7</td>\n",
       "      <td>0</td>\n",
       "    </tr>\n",
       "    <tr>\n",
       "      <th>6</th>\n",
       "      <td>6</td>\n",
       "      <td>Don MacLean</td>\n",
       "      <td>62</td>\n",
       "      <td>10.9</td>\n",
       "      <td>6.6</td>\n",
       "      <td>2.5</td>\n",
       "      <td>5.8</td>\n",
       "      <td>43.5</td>\n",
       "      <td>0.0</td>\n",
       "      <td>0.1</td>\n",
       "      <td>...</td>\n",
       "      <td>1.8</td>\n",
       "      <td>81.1</td>\n",
       "      <td>0.5</td>\n",
       "      <td>1.4</td>\n",
       "      <td>2.0</td>\n",
       "      <td>0.6</td>\n",
       "      <td>0.2</td>\n",
       "      <td>0.1</td>\n",
       "      <td>0.7</td>\n",
       "      <td>1</td>\n",
       "    </tr>\n",
       "    <tr>\n",
       "      <th>7</th>\n",
       "      <td>7</td>\n",
       "      <td>Tracy Murray</td>\n",
       "      <td>48</td>\n",
       "      <td>10.3</td>\n",
       "      <td>5.7</td>\n",
       "      <td>2.3</td>\n",
       "      <td>5.4</td>\n",
       "      <td>41.5</td>\n",
       "      <td>0.4</td>\n",
       "      <td>1.5</td>\n",
       "      <td>...</td>\n",
       "      <td>0.8</td>\n",
       "      <td>87.5</td>\n",
       "      <td>0.8</td>\n",
       "      <td>0.9</td>\n",
       "      <td>1.7</td>\n",
       "      <td>0.2</td>\n",
       "      <td>0.2</td>\n",
       "      <td>0.1</td>\n",
       "      <td>0.7</td>\n",
       "      <td>1</td>\n",
       "    </tr>\n",
       "    <tr>\n",
       "      <th>8</th>\n",
       "      <td>8</td>\n",
       "      <td>Duane Cooper</td>\n",
       "      <td>65</td>\n",
       "      <td>9.9</td>\n",
       "      <td>2.4</td>\n",
       "      <td>1.0</td>\n",
       "      <td>2.4</td>\n",
       "      <td>39.2</td>\n",
       "      <td>0.1</td>\n",
       "      <td>0.5</td>\n",
       "      <td>...</td>\n",
       "      <td>0.5</td>\n",
       "      <td>71.4</td>\n",
       "      <td>0.2</td>\n",
       "      <td>0.6</td>\n",
       "      <td>0.8</td>\n",
       "      <td>2.3</td>\n",
       "      <td>0.3</td>\n",
       "      <td>0.0</td>\n",
       "      <td>1.1</td>\n",
       "      <td>0</td>\n",
       "    </tr>\n",
       "    <tr>\n",
       "      <th>9</th>\n",
       "      <td>9</td>\n",
       "      <td>Dave Johnson</td>\n",
       "      <td>42</td>\n",
       "      <td>8.5</td>\n",
       "      <td>3.7</td>\n",
       "      <td>1.4</td>\n",
       "      <td>3.5</td>\n",
       "      <td>38.3</td>\n",
       "      <td>0.1</td>\n",
       "      <td>0.3</td>\n",
       "      <td>...</td>\n",
       "      <td>1.4</td>\n",
       "      <td>67.8</td>\n",
       "      <td>0.4</td>\n",
       "      <td>0.7</td>\n",
       "      <td>1.1</td>\n",
       "      <td>0.3</td>\n",
       "      <td>0.2</td>\n",
       "      <td>0.0</td>\n",
       "      <td>0.7</td>\n",
       "      <td>0</td>\n",
       "    </tr>\n",
       "  </tbody>\n",
       "</table>\n",
       "<p>10 rows × 22 columns</p>\n",
       "</div>"
      ],
      "text/plain": [
       "   Unnamed: 0             name  gp   min  pts  fgm  fga    fg  3p_made  3pa  \\\n",
       "0           0   Brandon Ingram  36  27.4  7.4  2.6  7.6  34.7      0.5  2.1   \n",
       "1           1  Andrew Harrison  35  26.9  7.2  2.0  6.7  29.6      0.7  2.8   \n",
       "2           2   JaKarr Sampson  74  15.3  5.2  2.0  4.7  42.2      0.4  1.7   \n",
       "3           3      Malik Sealy  58  11.6  5.7  2.3  5.5  42.6      0.1  0.5   \n",
       "4           4      Matt Geiger  48  11.5  4.5  1.6  3.0  52.4      0.0  0.1   \n",
       "5           5     Tony Bennett  75  11.4  3.7  1.5  3.5  42.3      0.3  1.1   \n",
       "6           6      Don MacLean  62  10.9  6.6  2.5  5.8  43.5      0.0  0.1   \n",
       "7           7     Tracy Murray  48  10.3  5.7  2.3  5.4  41.5      0.4  1.5   \n",
       "8           8     Duane Cooper  65   9.9  2.4  1.0  2.4  39.2      0.1  0.5   \n",
       "9           9     Dave Johnson  42   8.5  3.7  1.4  3.5  38.3      0.1  0.3   \n",
       "\n",
       "   ...  fta    ft  oreb  dreb  reb  ast  stl  blk  tov  target_5yrs  \n",
       "0  ...  2.3  69.9   0.7   3.4  4.1  1.9  0.4  0.4  1.3            0  \n",
       "1  ...  3.4  76.5   0.5   2.0  2.4  3.7  1.1  0.5  1.6            0  \n",
       "2  ...  1.3  67.0   0.5   1.7  2.2  1.0  0.5  0.3  1.0            0  \n",
       "3  ...  1.3  68.9   1.0   0.9  1.9  0.8  0.6  0.1  1.0            1  \n",
       "4  ...  1.9  67.4   1.0   1.5  2.5  0.3  0.3  0.4  0.8            1  \n",
       "5  ...  0.5  73.2   0.2   0.7  0.8  1.8  0.4  0.0  0.7            0  \n",
       "6  ...  1.8  81.1   0.5   1.4  2.0  0.6  0.2  0.1  0.7            1  \n",
       "7  ...  0.8  87.5   0.8   0.9  1.7  0.2  0.2  0.1  0.7            1  \n",
       "8  ...  0.5  71.4   0.2   0.6  0.8  2.3  0.3  0.0  1.1            0  \n",
       "9  ...  1.4  67.8   0.4   0.7  1.1  0.3  0.2  0.0  0.7            0  \n",
       "\n",
       "[10 rows x 22 columns]"
      ]
     },
     "execution_count": 76,
     "metadata": {},
     "output_type": "execute_result"
    }
   ],
   "source": [
    "data.head(10)"
   ]
  },
  {
   "cell_type": "markdown",
   "id": "3d9b18a8",
   "metadata": {},
   "source": [
    "# Checking the dataset distribution "
   ]
  },
  {
   "cell_type": "code",
   "execution_count": 77,
   "id": "20982f50",
   "metadata": {},
   "outputs": [
    {
     "data": {
      "text/plain": [
       "1    0.620149\n",
       "0    0.379851\n",
       "Name: target_5yrs, dtype: float64"
      ]
     },
     "execution_count": 77,
     "metadata": {},
     "output_type": "execute_result"
    }
   ],
   "source": [
    "data['target_5yrs'].value_counts()/len(data)"
   ]
  },
  {
   "cell_type": "markdown",
   "id": "9b9f13ae",
   "metadata": {},
   "source": [
    "# Seperating dependent and independent variable"
   ]
  },
  {
   "cell_type": "code",
   "execution_count": 78,
   "id": "521a1763",
   "metadata": {},
   "outputs": [],
   "source": [
    "X=data.drop(columns=['target_5yrs','Unnamed: 0','name'])\n",
    "Y=data['target_5yrs']"
   ]
  },
  {
   "cell_type": "code",
   "execution_count": 79,
   "id": "9d58f6d8",
   "metadata": {},
   "outputs": [
    {
     "data": {
      "text/plain": [
       "(1340, 19)"
      ]
     },
     "execution_count": 79,
     "metadata": {},
     "output_type": "execute_result"
    }
   ],
   "source": [
    "X.shape"
   ]
  },
  {
   "cell_type": "code",
   "execution_count": 80,
   "id": "fdc1418b",
   "metadata": {},
   "outputs": [
    {
     "data": {
      "text/plain": [
       "(1340,)"
      ]
     },
     "execution_count": 80,
     "metadata": {},
     "output_type": "execute_result"
    }
   ],
   "source": [
    "Y.shape"
   ]
  },
  {
   "cell_type": "markdown",
   "id": "9c2bbae8",
   "metadata": {},
   "source": [
    "# Scaling the dataset"
   ]
  },
  {
   "cell_type": "code",
   "execution_count": 81,
   "id": "1a752503",
   "metadata": {},
   "outputs": [],
   "source": [
    "from sklearn.preprocessing import StandardScaler\n",
    "scaler=StandardScaler()\n",
    "scaled_X=scaler.fit_transform(X)"
   ]
  },
  {
   "cell_type": "markdown",
   "id": "b69c986a",
   "metadata": {},
   "source": [
    "# Splitting the dataset"
   ]
  },
  {
   "cell_type": "code",
   "execution_count": 82,
   "id": "96a8f715",
   "metadata": {},
   "outputs": [
    {
     "data": {
      "text/plain": [
       "((1072, 19), (268, 19), (1072,), (268,))"
      ]
     },
     "execution_count": 82,
     "metadata": {},
     "output_type": "execute_result"
    }
   ],
   "source": [
    "from sklearn.model_selection import train_test_split as tts\n",
    "x_train,x_test,y_train,y_test=tts(scaled_X,Y,train_size=0.80,stratify=Y,random_state=101)\n",
    "x_train.shape,x_test.shape,y_train.shape,y_test.shape"
   ]
  },
  {
   "cell_type": "markdown",
   "id": "bcf88586",
   "metadata": {},
   "source": [
    "# Model Building, predictions and odds ratio"
   ]
  },
  {
   "cell_type": "code",
   "execution_count": 83,
   "id": "b4b0e9a8",
   "metadata": {},
   "outputs": [
    {
     "data": {
      "text/plain": [
       "(array([[0.1464746 , 0.8535254 ],\n",
       "        [0.45443308, 0.54556692],\n",
       "        [0.54506459, 0.45493541],\n",
       "        [0.82464322, 0.17535678],\n",
       "        [0.40468784, 0.59531216],\n",
       "        [0.32889796, 0.67110204],\n",
       "        [0.43319292, 0.56680708],\n",
       "        [0.37439014, 0.62560986],\n",
       "        [0.84207022, 0.15792978],\n",
       "        [0.03715112, 0.96284888],\n",
       "        [0.27543687, 0.72456313],\n",
       "        [0.28012837, 0.71987163],\n",
       "        [0.69085169, 0.30914831],\n",
       "        [0.34231294, 0.65768706],\n",
       "        [0.10849164, 0.89150836],\n",
       "        [0.70497312, 0.29502688],\n",
       "        [0.6932996 , 0.3067004 ],\n",
       "        [0.77457323, 0.22542677],\n",
       "        [0.69617388, 0.30382612],\n",
       "        [0.86613953, 0.13386047],\n",
       "        [0.22962713, 0.77037287],\n",
       "        [0.57632612, 0.42367388],\n",
       "        [0.64962231, 0.35037769],\n",
       "        [0.30986281, 0.69013719],\n",
       "        [0.84506521, 0.15493479],\n",
       "        [0.68608053, 0.31391947],\n",
       "        [0.6884927 , 0.3115073 ],\n",
       "        [0.23513028, 0.76486972],\n",
       "        [0.4526131 , 0.5473869 ],\n",
       "        [0.49250028, 0.50749972],\n",
       "        [0.81589798, 0.18410202],\n",
       "        [0.91344468, 0.08655532],\n",
       "        [0.35581768, 0.64418232],\n",
       "        [0.16758473, 0.83241527],\n",
       "        [0.59563173, 0.40436827],\n",
       "        [0.13216977, 0.86783023],\n",
       "        [0.48532237, 0.51467763],\n",
       "        [0.68545899, 0.31454101],\n",
       "        [0.64806736, 0.35193264],\n",
       "        [0.39207731, 0.60792269],\n",
       "        [0.08351725, 0.91648275],\n",
       "        [0.16907511, 0.83092489],\n",
       "        [0.50551194, 0.49448806],\n",
       "        [0.06805501, 0.93194499],\n",
       "        [0.31875369, 0.68124631],\n",
       "        [0.67409501, 0.32590499],\n",
       "        [0.56517938, 0.43482062],\n",
       "        [0.19534167, 0.80465833],\n",
       "        [0.15494991, 0.84505009],\n",
       "        [0.7043439 , 0.2956561 ],\n",
       "        [0.37143187, 0.62856813],\n",
       "        [0.42697569, 0.57302431],\n",
       "        [0.02066419, 0.97933581],\n",
       "        [0.12002165, 0.87997835],\n",
       "        [0.63401068, 0.36598932],\n",
       "        [0.4260904 , 0.5739096 ],\n",
       "        [0.38401451, 0.61598549],\n",
       "        [0.27371648, 0.72628352],\n",
       "        [0.92215632, 0.07784368],\n",
       "        [0.68608788, 0.31391212],\n",
       "        [0.12534734, 0.87465266],\n",
       "        [0.48505477, 0.51494523],\n",
       "        [0.3218306 , 0.6781694 ],\n",
       "        [0.35481236, 0.64518764],\n",
       "        [0.85067944, 0.14932056],\n",
       "        [0.44482108, 0.55517892],\n",
       "        [0.83284434, 0.16715566],\n",
       "        [0.94401339, 0.05598661],\n",
       "        [0.59836161, 0.40163839],\n",
       "        [0.62849883, 0.37150117],\n",
       "        [0.64513301, 0.35486699],\n",
       "        [0.18456466, 0.81543534],\n",
       "        [0.78205874, 0.21794126],\n",
       "        [0.1969494 , 0.8030506 ],\n",
       "        [0.58492681, 0.41507319],\n",
       "        [0.85677418, 0.14322582],\n",
       "        [0.88162634, 0.11837366],\n",
       "        [0.59835801, 0.40164199],\n",
       "        [0.1664621 , 0.8335379 ],\n",
       "        [0.16064655, 0.83935345],\n",
       "        [0.22314064, 0.77685936],\n",
       "        [0.79606368, 0.20393632],\n",
       "        [0.16116825, 0.83883175],\n",
       "        [0.70179377, 0.29820623],\n",
       "        [0.28794601, 0.71205399],\n",
       "        [0.18811538, 0.81188462],\n",
       "        [0.36944434, 0.63055566],\n",
       "        [0.31413576, 0.68586424],\n",
       "        [0.53293908, 0.46706092],\n",
       "        [0.27790927, 0.72209073],\n",
       "        [0.81300007, 0.18699993],\n",
       "        [0.53763957, 0.46236043],\n",
       "        [0.54679101, 0.45320899],\n",
       "        [0.7864446 , 0.2135554 ],\n",
       "        [0.74419776, 0.25580224],\n",
       "        [0.75902175, 0.24097825],\n",
       "        [0.61540406, 0.38459594],\n",
       "        [0.13507607, 0.86492393],\n",
       "        [0.11714375, 0.88285625],\n",
       "        [0.75158045, 0.24841955],\n",
       "        [0.87067954, 0.12932046],\n",
       "        [0.27137729, 0.72862271],\n",
       "        [0.7870328 , 0.2129672 ],\n",
       "        [0.3327151 , 0.6672849 ],\n",
       "        [0.10077032, 0.89922968],\n",
       "        [0.73844052, 0.26155948],\n",
       "        [0.58555919, 0.41444081],\n",
       "        [0.35752019, 0.64247981],\n",
       "        [0.11062243, 0.88937757],\n",
       "        [0.54530535, 0.45469465],\n",
       "        [0.70657999, 0.29342001],\n",
       "        [0.21875054, 0.78124946],\n",
       "        [0.20255387, 0.79744613],\n",
       "        [0.50745128, 0.49254872],\n",
       "        [0.84501446, 0.15498554],\n",
       "        [0.47911702, 0.52088298],\n",
       "        [0.57871017, 0.42128983],\n",
       "        [0.34142217, 0.65857783],\n",
       "        [0.7534796 , 0.2465204 ],\n",
       "        [0.84061771, 0.15938229],\n",
       "        [0.49860129, 0.50139871],\n",
       "        [0.10864287, 0.89135713],\n",
       "        [0.42173409, 0.57826591],\n",
       "        [0.18076231, 0.81923769],\n",
       "        [0.77670531, 0.22329469],\n",
       "        [0.65381279, 0.34618721],\n",
       "        [0.3188158 , 0.6811842 ],\n",
       "        [0.76201455, 0.23798545],\n",
       "        [0.58615802, 0.41384198],\n",
       "        [0.34933209, 0.65066791],\n",
       "        [0.74369943, 0.25630057],\n",
       "        [0.51776762, 0.48223238],\n",
       "        [0.48396592, 0.51603408],\n",
       "        [0.46581858, 0.53418142],\n",
       "        [0.28277996, 0.71722004],\n",
       "        [0.12471149, 0.87528851],\n",
       "        [0.25490066, 0.74509934],\n",
       "        [0.13389557, 0.86610443],\n",
       "        [0.29701457, 0.70298543],\n",
       "        [0.74296068, 0.25703932],\n",
       "        [0.30074246, 0.69925754],\n",
       "        [0.58313004, 0.41686996],\n",
       "        [0.2962845 , 0.7037155 ],\n",
       "        [0.50670488, 0.49329512],\n",
       "        [0.47051663, 0.52948337],\n",
       "        [0.74243218, 0.25756782],\n",
       "        [0.59683483, 0.40316517],\n",
       "        [0.29304871, 0.70695129],\n",
       "        [0.70837457, 0.29162543],\n",
       "        [0.83852542, 0.16147458],\n",
       "        [0.7374954 , 0.2625046 ],\n",
       "        [0.64912826, 0.35087174],\n",
       "        [0.44942805, 0.55057195],\n",
       "        [0.65907877, 0.34092123],\n",
       "        [0.7508675 , 0.2491325 ],\n",
       "        [0.7760622 , 0.2239378 ],\n",
       "        [0.39164952, 0.60835048],\n",
       "        [0.0273884 , 0.9726116 ],\n",
       "        [0.23168995, 0.76831005],\n",
       "        [0.13253873, 0.86746127],\n",
       "        [0.91344468, 0.08655532],\n",
       "        [0.56986266, 0.43013734],\n",
       "        [0.78797518, 0.21202482],\n",
       "        [0.31346824, 0.68653176],\n",
       "        [0.36160209, 0.63839791],\n",
       "        [0.3172661 , 0.6827339 ],\n",
       "        [0.4511973 , 0.5488027 ],\n",
       "        [0.83100806, 0.16899194],\n",
       "        [0.21651527, 0.78348473],\n",
       "        [0.66772988, 0.33227012],\n",
       "        [0.4514545 , 0.5485455 ],\n",
       "        [0.83280401, 0.16719599],\n",
       "        [0.17619117, 0.82380883],\n",
       "        [0.28299124, 0.71700876],\n",
       "        [0.74929778, 0.25070222],\n",
       "        [0.35949574, 0.64050426],\n",
       "        [0.91001734, 0.08998266],\n",
       "        [0.47675702, 0.52324298],\n",
       "        [0.34301869, 0.65698131],\n",
       "        [0.78142883, 0.21857117],\n",
       "        [0.34142217, 0.65857783],\n",
       "        [0.63188881, 0.36811119],\n",
       "        [0.68599571, 0.31400429],\n",
       "        [0.32861493, 0.67138507],\n",
       "        [0.01557722, 0.98442278],\n",
       "        [0.7126388 , 0.2873612 ],\n",
       "        [0.75976736, 0.24023264],\n",
       "        [0.35312063, 0.64687937],\n",
       "        [0.56391792, 0.43608208],\n",
       "        [0.71796343, 0.28203657],\n",
       "        [0.86982176, 0.13017824],\n",
       "        [0.24609668, 0.75390332],\n",
       "        [0.37116982, 0.62883018],\n",
       "        [0.23149481, 0.76850519],\n",
       "        [0.48212217, 0.51787783],\n",
       "        [0.55081918, 0.44918082],\n",
       "        [0.71404742, 0.28595258],\n",
       "        [0.40496874, 0.59503126],\n",
       "        [0.02549476, 0.97450524],\n",
       "        [0.78678743, 0.21321257],\n",
       "        [0.66042729, 0.33957271],\n",
       "        [0.779259  , 0.220741  ],\n",
       "        [0.37375427, 0.62624573],\n",
       "        [0.84841279, 0.15158721],\n",
       "        [0.78372729, 0.21627271],\n",
       "        [0.34980153, 0.65019847],\n",
       "        [0.46240958, 0.53759042],\n",
       "        [0.42953615, 0.57046385],\n",
       "        [0.09039459, 0.90960541],\n",
       "        [0.40849092, 0.59150908],\n",
       "        [0.86150518, 0.13849482],\n",
       "        [0.55391385, 0.44608615],\n",
       "        [0.51756566, 0.48243434],\n",
       "        [0.30566499, 0.69433501],\n",
       "        [0.32697077, 0.67302923],\n",
       "        [0.73801785, 0.26198215],\n",
       "        [0.89188056, 0.10811944],\n",
       "        [0.4903571 , 0.5096429 ],\n",
       "        [0.32515244, 0.67484756],\n",
       "        [0.75952484, 0.24047516],\n",
       "        [0.63936065, 0.36063935],\n",
       "        [0.18803903, 0.81196097],\n",
       "        [0.30086893, 0.69913107],\n",
       "        [0.5930265 , 0.4069735 ],\n",
       "        [0.71117497, 0.28882503],\n",
       "        [0.23409944, 0.76590056],\n",
       "        [0.2231394 , 0.7768606 ],\n",
       "        [0.37508827, 0.62491173],\n",
       "        [0.63025719, 0.36974281],\n",
       "        [0.12517235, 0.87482765],\n",
       "        [0.67481393, 0.32518607],\n",
       "        [0.54198568, 0.45801432],\n",
       "        [0.46456421, 0.53543579],\n",
       "        [0.55166745, 0.44833255],\n",
       "        [0.53687552, 0.46312448],\n",
       "        [0.77277551, 0.22722449],\n",
       "        [0.34071755, 0.65928245],\n",
       "        [0.19471528, 0.80528472],\n",
       "        [0.2479581 , 0.7520419 ],\n",
       "        [0.26000889, 0.73999111],\n",
       "        [0.53442346, 0.46557654],\n",
       "        [0.11205026, 0.88794974],\n",
       "        [0.62990927, 0.37009073],\n",
       "        [0.22345267, 0.77654733],\n",
       "        [0.46772101, 0.53227899],\n",
       "        [0.19088136, 0.80911864],\n",
       "        [0.8014673 , 0.1985327 ],\n",
       "        [0.52844926, 0.47155074],\n",
       "        [0.56010852, 0.43989148],\n",
       "        [0.16453656, 0.83546344],\n",
       "        [0.16767419, 0.83232581],\n",
       "        [0.57913392, 0.42086608],\n",
       "        [0.9476052 , 0.0523948 ],\n",
       "        [0.05553833, 0.94446167],\n",
       "        [0.70672463, 0.29327537],\n",
       "        [0.85655231, 0.14344769],\n",
       "        [0.33948781, 0.66051219],\n",
       "        [0.65179549, 0.34820451],\n",
       "        [0.18870909, 0.81129091],\n",
       "        [0.37322027, 0.62677973],\n",
       "        [0.72790794, 0.27209206],\n",
       "        [0.60743395, 0.39256605],\n",
       "        [0.37461823, 0.62538177],\n",
       "        [0.47486916, 0.52513084],\n",
       "        [0.06890111, 0.93109889],\n",
       "        [0.21080682, 0.78919318],\n",
       "        [0.68062364, 0.31937636],\n",
       "        [0.83640207, 0.16359793]]),\n",
       " (268, 2))"
      ]
     },
     "execution_count": 83,
     "metadata": {},
     "output_type": "execute_result"
    }
   ],
   "source": [
    "from sklearn.linear_model import LogisticRegression as LR\n",
    "classifier=LR(class_weight='balanced')\n",
    "classifier.fit(x_train,y_train)\n",
    "predicted_values=classifier.predict(x_test)\n",
    "predicted_probabilities=classifier.predict_proba(x_test)\n",
    "predicted_values\n",
    "predicted_probabilities,predicted_probabilities.shape"
   ]
  },
  {
   "cell_type": "code",
   "execution_count": 84,
   "id": "c0cb31cc",
   "metadata": {},
   "outputs": [
    {
     "data": {
      "text/plain": [
       "(1072,)"
      ]
     },
     "execution_count": 84,
     "metadata": {},
     "output_type": "execute_result"
    }
   ],
   "source": [
    "y_train.shape"
   ]
  },
  {
   "cell_type": "code",
   "execution_count": 85,
   "id": "372b258b",
   "metadata": {},
   "outputs": [
    {
     "data": {
      "text/plain": [
       "(268,)"
      ]
     },
     "execution_count": 85,
     "metadata": {},
     "output_type": "execute_result"
    }
   ],
   "source": [
    "predicted_values.shape"
   ]
  },
  {
   "cell_type": "code",
   "execution_count": 86,
   "id": "d809eae2",
   "metadata": {},
   "outputs": [
    {
     "data": {
      "text/plain": [
       "(268,)"
      ]
     },
     "execution_count": 86,
     "metadata": {},
     "output_type": "execute_result"
    }
   ],
   "source": [
    "y_test.shape"
   ]
  },
  {
   "cell_type": "markdown",
   "id": "fb3b3153",
   "metadata": {},
   "source": [
    "# Confusion matrix LR"
   ]
  },
  {
   "cell_type": "code",
   "execution_count": 87,
   "id": "4b1f3c05",
   "metadata": {},
   "outputs": [
    {
     "data": {
      "text/plain": [
       "array([[ 75,  27],\n",
       "       [ 54, 112]])"
      ]
     },
     "execution_count": 87,
     "metadata": {},
     "output_type": "execute_result"
    }
   ],
   "source": [
    "from sklearn.metrics import confusion_matrix\n",
    "cf=confusion_matrix(y_test,predicted_values)\n",
    "cf"
   ]
  },
  {
   "cell_type": "markdown",
   "id": "d62d6409",
   "metadata": {},
   "source": [
    "1.Accuracy"
   ]
  },
  {
   "cell_type": "code",
   "execution_count": 88,
   "id": "0ab803d9",
   "metadata": {},
   "outputs": [
    {
     "data": {
      "text/plain": [
       "0.6977611940298507"
      ]
     },
     "execution_count": 88,
     "metadata": {},
     "output_type": "execute_result"
    }
   ],
   "source": [
    "classifier.score(x_test,y_test)"
   ]
  },
  {
   "cell_type": "markdown",
   "id": "e4157272",
   "metadata": {},
   "source": [
    "2.Calculating the precision score"
   ]
  },
  {
   "cell_type": "code",
   "execution_count": 89,
   "id": "7ea00c5e",
   "metadata": {},
   "outputs": [],
   "source": [
    "from sklearn.metrics import precision_recall_fscore_support as PRF_summary\n",
    "precision,recall,f1,support=PRF_summary(y_test,predicted_values)"
   ]
  },
  {
   "cell_type": "code",
   "execution_count": 90,
   "id": "0c3e4143",
   "metadata": {},
   "outputs": [
    {
     "data": {
      "text/plain": [
       "array([0.58139535, 0.8057554 ])"
      ]
     },
     "execution_count": 90,
     "metadata": {},
     "output_type": "execute_result"
    }
   ],
   "source": [
    "precision"
   ]
  },
  {
   "cell_type": "code",
   "execution_count": 91,
   "id": "51da369d",
   "metadata": {},
   "outputs": [
    {
     "data": {
      "text/plain": [
       "array([0.73529412, 0.6746988 ])"
      ]
     },
     "execution_count": 91,
     "metadata": {},
     "output_type": "execute_result"
    }
   ],
   "source": [
    "recall"
   ]
  },
  {
   "cell_type": "code",
   "execution_count": 92,
   "id": "5f14aac8",
   "metadata": {},
   "outputs": [
    {
     "data": {
      "text/plain": [
       "array([0.64935065, 0.73442623])"
      ]
     },
     "execution_count": 92,
     "metadata": {},
     "output_type": "execute_result"
    }
   ],
   "source": [
    "f1"
   ]
  },
  {
   "cell_type": "code",
   "execution_count": 93,
   "id": "843e254d",
   "metadata": {},
   "outputs": [
    {
     "data": {
      "text/plain": [
       "array([102, 166])"
      ]
     },
     "execution_count": 93,
     "metadata": {},
     "output_type": "execute_result"
    }
   ],
   "source": [
    "support"
   ]
  },
  {
   "cell_type": "markdown",
   "id": "6af83c4a",
   "metadata": {},
   "source": [
    "Only for representation"
   ]
  },
  {
   "cell_type": "code",
   "execution_count": 94,
   "id": "48179ed9",
   "metadata": {},
   "outputs": [
    {
     "name": "stdout",
     "output_type": "stream",
     "text": [
      "              precision    recall  f1-score   support\n",
      "\n",
      "           0       0.58      0.74      0.65       102\n",
      "           1       0.81      0.67      0.73       166\n",
      "\n",
      "    accuracy                           0.70       268\n",
      "   macro avg       0.69      0.70      0.69       268\n",
      "weighted avg       0.72      0.70      0.70       268\n",
      "\n"
     ]
    }
   ],
   "source": [
    "from sklearn.metrics import classification_report\n",
    "k=classification_report(y_test,predicted_values)\n",
    "print(k)"
   ]
  },
  {
   "cell_type": "markdown",
   "id": "65cd9409",
   "metadata": {},
   "source": [
    "# Precision-Recall Curve LR"
   ]
  },
  {
   "cell_type": "code",
   "execution_count": 95,
   "id": "78b19081",
   "metadata": {},
   "outputs": [
    {
     "data": {
      "text/plain": [
       "((267,), (267,), (266,))"
      ]
     },
     "execution_count": 95,
     "metadata": {},
     "output_type": "execute_result"
    }
   ],
   "source": [
    "#gathering Precision/recall scores from different threshold\n",
    "from sklearn.metrics import precision_recall_curve\n",
    "precision_points,recall_points,threshold_points=precision_recall_curve(y_test,predicted_probabilities[:,1])\n",
    "precision_points.shape,recall_points.shape,threshold_points.shape"
   ]
  },
  {
   "cell_type": "code",
   "execution_count": 96,
   "id": "8e223756",
   "metadata": {},
   "outputs": [
    {
     "data": {
      "text/plain": [
       "<matplotlib.legend.Legend at 0x7fed38112580>"
      ]
     },
     "execution_count": 96,
     "metadata": {},
     "output_type": "execute_result"
    },
    {
     "data": {
      "image/png": "[encoded data removed]",
      "text/plain": [
       "<Figure size 700x500 with 1 Axes>"
      ]
     },
     "metadata": {
      "needs_background": "light"
     },
     "output_type": "display_data"
    }
   ],
   "source": [
    "#compare if threshold is less than precision & recall \n",
    "#if less -1 minus in plotting\n",
    "plt.figure(figsize=(7,5),dpi=100)\n",
    "plt.plot(threshold_points,precision_points[:-1],color='green',label='Precision')\n",
    "plt.plot(threshold_points,recall_points[:-1],color='orange',label='Recall')\n",
    "plt.xlabel('Threshold Points',fontsize=15)\n",
    "plt.ylabel('Score',fontsize=15)\n",
    "plt.title('Precision-Recall tradeoff',fontsize=20)\n",
    "plt.legend()"
   ]
  },
  {
   "cell_type": "markdown",
   "id": "3b66cb2a",
   "metadata": {},
   "source": [
    "# AUC-ROC Curve LR"
   ]
  },
  {
   "cell_type": "code",
   "execution_count": 97,
   "id": "215f96d7",
   "metadata": {},
   "outputs": [
    {
     "data": {
      "image/png": "[encoded data removed]",
      "text/plain": [
       "<Figure size 700x500 with 1 Axes>"
      ]
     },
     "metadata": {
      "needs_background": "light"
     },
     "output_type": "display_data"
    },
    {
     "data": {
      "text/plain": [
       "0.7650897708480984"
      ]
     },
     "execution_count": 97,
     "metadata": {},
     "output_type": "execute_result"
    }
   ],
   "source": [
    "from sklearn.metrics import roc_curve,roc_auc_score\n",
    "fpr,tpr,threshold=roc_curve(y_test,predicted_probabilities[:,1])\n",
    "plt.figure(figsize=(7,5),dpi=100)\n",
    "plt.plot(fpr,tpr,color='green')\n",
    "plt.plot([0,1],[0,1],label='baseline',color='red')\n",
    "plt.xlabel('FPR',fontsize=15)\n",
    "plt.ylabel('TPR',fontsize=15)\n",
    "plt.title('AUC-ROC',fontsize=20)\n",
    "plt.show()\n",
    "roc_auc_score(y_test,predicted_probabilities[:,1])"
   ]
  },
  {
   "cell_type": "markdown",
   "id": "1a0847a6",
   "metadata": {},
   "source": [
    "# Coefficients Plot"
   ]
  },
  {
   "cell_type": "code",
   "execution_count": 98,
   "id": "70857626",
   "metadata": {},
   "outputs": [
    {
     "data": {
      "text/html": [
       "<div>\n",
       "<style scoped>\n",
       "    .dataframe tbody tr th:only-of-type {\n",
       "        vertical-align: middle;\n",
       "    }\n",
       "\n",
       "    .dataframe tbody tr th {\n",
       "        vertical-align: top;\n",
       "    }\n",
       "\n",
       "    .dataframe thead th {\n",
       "        text-align: right;\n",
       "    }\n",
       "</style>\n",
       "<table border=\"1\" class=\"dataframe\">\n",
       "  <thead>\n",
       "    <tr style=\"text-align: right;\">\n",
       "      <th></th>\n",
       "      <th>coefficients</th>\n",
       "      <th>variable</th>\n",
       "    </tr>\n",
       "  </thead>\n",
       "  <tbody>\n",
       "    <tr>\n",
       "      <th>7</th>\n",
       "      <td>-0.766687</td>\n",
       "      <td>3pa</td>\n",
       "    </tr>\n",
       "    <tr>\n",
       "      <th>13</th>\n",
       "      <td>-0.361536</td>\n",
       "      <td>dreb</td>\n",
       "    </tr>\n",
       "    <tr>\n",
       "      <th>10</th>\n",
       "      <td>-0.355338</td>\n",
       "      <td>fta</td>\n",
       "    </tr>\n",
       "    <tr>\n",
       "      <th>1</th>\n",
       "      <td>-0.347459</td>\n",
       "      <td>min</td>\n",
       "    </tr>\n",
       "    <tr>\n",
       "      <th>18</th>\n",
       "      <td>-0.198380</td>\n",
       "      <td>tov</td>\n",
       "    </tr>\n",
       "  </tbody>\n",
       "</table>\n",
       "</div>"
      ],
      "text/plain": [
       "    coefficients variable\n",
       "7      -0.766687      3pa\n",
       "13     -0.361536     dreb\n",
       "10     -0.355338      fta\n",
       "1      -0.347459      min\n",
       "18     -0.198380      tov"
      ]
     },
     "execution_count": 98,
     "metadata": {},
     "output_type": "execute_result"
    }
   ],
   "source": [
    "#arranging the data\n",
    "c=classifier.coef_.reshape(-1)\n",
    "x=X.columns\n",
    "coeff_plot=pd.DataFrame({\n",
    "    'coefficients':c,\n",
    "    'variable':x\n",
    "})\n",
    "#sorting the values\n",
    "coeff_plot=coeff_plot.sort_values(by='coefficients')\n",
    "coeff_plot.head()"
   ]
  },
  {
   "cell_type": "code",
   "execution_count": 99,
   "id": "fd4c7aa0",
   "metadata": {},
   "outputs": [
    {
     "data": {
      "text/plain": [
       "Text(0.5, 1.0, 'Coefficients plot')"
      ]
     },
     "execution_count": 99,
     "metadata": {},
     "output_type": "execute_result"
    },
    {
     "data": {
      "image/png": "[encoded data removed]",
      "text/plain": [
       "<Figure size 960x720 with 1 Axes>"
      ]
     },
     "metadata": {
      "needs_background": "light"
     },
     "output_type": "display_data"
    }
   ],
   "source": [
    "plt.figure(figsize=(8,6),dpi=120)\n",
    "plt.barh(coeff_plot['variable'],coeff_plot['coefficients'])\n",
    "plt.xlabel(\"Coefficients Magnitude\",fontsize=15)\n",
    "plt.ylabel('variables',fontsize=15)\n",
    "plt.title('Coefficients plot',fontsize=20)"
   ]
  },
  {
   "cell_type": "markdown",
   "id": "09cd5996",
   "metadata": {},
   "source": [
    "# Bagging"
   ]
  },
  {
   "cell_type": "code",
   "execution_count": 100,
   "id": "0c463a3c",
   "metadata": {},
   "outputs": [
    {
     "data": {
      "text/plain": [
       "BaggingClassifier()"
      ]
     },
     "execution_count": 100,
     "metadata": {},
     "output_type": "execute_result"
    }
   ],
   "source": [
    "from sklearn.ensemble import BaggingClassifier as BC\n",
    "classifier=BC()\n",
    "classifier.fit(x_train,y_train)"
   ]
  },
  {
   "cell_type": "code",
   "execution_count": 101,
   "id": "04ca2a87",
   "metadata": {},
   "outputs": [],
   "source": [
    "from sklearn.linear_model import LogisticRegression as LR\n",
    "\n",
    "classifier = BC(base_estimator=LR(),\n",
    "               n_estimators=150,\n",
    "              n_jobs=-1,\n",
    "           random_state=42)\n",
    "classifier.fit(x_train,y_train)\n",
    "predicted_values=classifier.predict(x_train)"
   ]
  },
  {
   "cell_type": "code",
   "execution_count": 102,
   "id": "4ed0c1af",
   "metadata": {},
   "outputs": [
    {
     "name": "stdout",
     "output_type": "stream",
     "text": [
      "              precision    recall  f1-score   support\n",
      "\n",
      "           0       0.64      0.52      0.58       407\n",
      "           1       0.74      0.82      0.78       665\n",
      "\n",
      "    accuracy                           0.71      1072\n",
      "   macro avg       0.69      0.67      0.68      1072\n",
      "weighted avg       0.70      0.71      0.70      1072\n",
      "\n"
     ]
    }
   ],
   "source": [
    "from sklearn.metrics import classification_report\n",
    "print(classification_report(y_train,predicted_values))"
   ]
  },
  {
   "cell_type": "code",
   "execution_count": 103,
   "id": "15fc20d2",
   "metadata": {},
   "outputs": [
    {
     "name": "stdout",
     "output_type": "stream",
     "text": [
      "              precision    recall  f1-score   support\n",
      "\n",
      "           0       0.65      0.60      0.62       102\n",
      "           1       0.76      0.80      0.78       166\n",
      "\n",
      "    accuracy                           0.72       268\n",
      "   macro avg       0.71      0.70      0.70       268\n",
      "weighted avg       0.72      0.72      0.72       268\n",
      "\n"
     ]
    }
   ],
   "source": [
    "predicted_values=classifier.predict(x_test)\n",
    "print(classification_report(y_test,predicted_values))"
   ]
  },
  {
   "cell_type": "markdown",
   "id": "da81dfe8",
   "metadata": {},
   "source": [
    "# Confusion matrix"
   ]
  },
  {
   "cell_type": "code",
   "execution_count": 104,
   "id": "db2dc21f",
   "metadata": {},
   "outputs": [
    {
     "data": {
      "text/plain": [
       "array([[ 61,  41],\n",
       "       [ 33, 133]])"
      ]
     },
     "execution_count": 104,
     "metadata": {},
     "output_type": "execute_result"
    }
   ],
   "source": [
    "from sklearn.metrics import confusion_matrix\n",
    "cf=confusion_matrix(y_test,predicted_values)\n",
    "cf"
   ]
  },
  {
   "cell_type": "markdown",
   "id": "ce45d4ce",
   "metadata": {},
   "source": [
    "1. Accuracy"
   ]
  },
  {
   "cell_type": "code",
   "execution_count": 105,
   "id": "454d5b48",
   "metadata": {},
   "outputs": [
    {
     "data": {
      "text/plain": [
       "0.7238805970149254"
      ]
     },
     "execution_count": 105,
     "metadata": {},
     "output_type": "execute_result"
    }
   ],
   "source": [
    "classifier.score(x_test,y_test)"
   ]
  },
  {
   "cell_type": "markdown",
   "id": "56483f18",
   "metadata": {},
   "source": [
    "2. Calculating the precision score"
   ]
  },
  {
   "cell_type": "code",
   "execution_count": 106,
   "id": "1750c4b1",
   "metadata": {},
   "outputs": [],
   "source": [
    "from sklearn.metrics import precision_recall_fscore_support as PRF_summary\n",
    "precision,recall,f1,support=PRF_summary(y_test,predicted_values)"
   ]
  },
  {
   "cell_type": "code",
   "execution_count": 107,
   "id": "403c2521",
   "metadata": {},
   "outputs": [
    {
     "data": {
      "text/plain": [
       "array([0.64893617, 0.76436782])"
      ]
     },
     "execution_count": 107,
     "metadata": {},
     "output_type": "execute_result"
    }
   ],
   "source": [
    "precision"
   ]
  },
  {
   "cell_type": "code",
   "execution_count": 108,
   "id": "307cb9dd",
   "metadata": {},
   "outputs": [
    {
     "data": {
      "text/plain": [
       "array([0.59803922, 0.80120482])"
      ]
     },
     "execution_count": 108,
     "metadata": {},
     "output_type": "execute_result"
    }
   ],
   "source": [
    "recall"
   ]
  },
  {
   "cell_type": "code",
   "execution_count": 109,
   "id": "9e0f9be3",
   "metadata": {},
   "outputs": [
    {
     "data": {
      "text/plain": [
       "array([0.62244898, 0.78235294])"
      ]
     },
     "execution_count": 109,
     "metadata": {},
     "output_type": "execute_result"
    }
   ],
   "source": [
    "f1"
   ]
  },
  {
   "cell_type": "code",
   "execution_count": 110,
   "id": "793ec321",
   "metadata": {},
   "outputs": [
    {
     "data": {
      "text/plain": [
       "array([102, 166])"
      ]
     },
     "execution_count": 110,
     "metadata": {},
     "output_type": "execute_result"
    }
   ],
   "source": [
    "support #support is nothing but the no of instances for class 1 and class 0"
   ]
  },
  {
   "cell_type": "markdown",
   "id": "f1fe56ef",
   "metadata": {},
   "source": [
    "Only for representation"
   ]
  },
  {
   "cell_type": "code",
   "execution_count": 111,
   "id": "508bf904",
   "metadata": {},
   "outputs": [
    {
     "name": "stdout",
     "output_type": "stream",
     "text": [
      "              precision    recall  f1-score   support\n",
      "\n",
      "           0       0.65      0.60      0.62       102\n",
      "           1       0.76      0.80      0.78       166\n",
      "\n",
      "    accuracy                           0.72       268\n",
      "   macro avg       0.71      0.70      0.70       268\n",
      "weighted avg       0.72      0.72      0.72       268\n",
      "\n"
     ]
    }
   ],
   "source": [
    "from sklearn.metrics import classification_report\n",
    "k=classification_report(y_test,predicted_values)\n",
    "print(k)"
   ]
  },
  {
   "cell_type": "markdown",
   "id": "203a9726",
   "metadata": {},
   "source": [
    "# Precision-Recall Curve-Bagging"
   ]
  },
  {
   "cell_type": "code",
   "execution_count": 112,
   "id": "966a537a",
   "metadata": {},
   "outputs": [
    {
     "data": {
      "text/plain": [
       "((267,), (267,), (266,))"
      ]
     },
     "execution_count": 112,
     "metadata": {},
     "output_type": "execute_result"
    }
   ],
   "source": [
    "#gathering Precision/recall scores from different threshold\n",
    "from sklearn.metrics import precision_recall_curve\n",
    "precision_points,recall_points,threshold_points=precision_recall_curve(y_test,predicted_probabilities[:,1])\n",
    "precision_points.shape,recall_points.shape,threshold_points.shape"
   ]
  },
  {
   "cell_type": "code",
   "execution_count": 113,
   "id": "52b87414",
   "metadata": {},
   "outputs": [
    {
     "data": {
      "text/plain": [
       "<matplotlib.legend.Legend at 0x7fed58255880>"
      ]
     },
     "execution_count": 113,
     "metadata": {},
     "output_type": "execute_result"
    },
    {
     "data": {
      "image/png": "[encoded data removed]",
      "text/plain": [
       "<Figure size 700x500 with 1 Axes>"
      ]
     },
     "metadata": {
      "needs_background": "light"
     },
     "output_type": "display_data"
    }
   ],
   "source": [
    "#compare if threshold is less than precision & recall \n",
    "#if less -1 minus in plotting\n",
    "plt.figure(figsize=(7,5),dpi=100)\n",
    "plt.plot(threshold_points,precision_points[:-1],color='green',label='Precision')\n",
    "plt.plot(threshold_points,recall_points[:-1],color='orange',label='Recall')\n",
    "plt.xlabel('Threshold Points',fontsize=15)\n",
    "plt.ylabel('Score',fontsize=15)\n",
    "plt.title('Precision-Recall tradeoff',fontsize=20)\n",
    "plt.legend()"
   ]
  },
  {
   "cell_type": "markdown",
   "id": "314e36ee",
   "metadata": {},
   "source": [
    "# AUC-ROC Curve-Bagging"
   ]
  },
  {
   "cell_type": "code",
   "execution_count": 114,
   "id": "ab51bab2",
   "metadata": {},
   "outputs": [
    {
     "data": {
      "image/png": "[encoded data removed]",
      "text/plain": [
       "<Figure size 700x500 with 1 Axes>"
      ]
     },
     "metadata": {
      "needs_background": "light"
     },
     "output_type": "display_data"
    },
    {
     "data": {
      "text/plain": [
       "0.7650897708480984"
      ]
     },
     "execution_count": 114,
     "metadata": {},
     "output_type": "execute_result"
    }
   ],
   "source": [
    "from sklearn.metrics import roc_curve,roc_auc_score\n",
    "fpr,tpr,threshold=roc_curve(y_test,predicted_probabilities[:,1])\n",
    "plt.figure(figsize=(7,5),dpi=100)\n",
    "plt.plot(fpr,tpr,color='green')\n",
    "plt.plot([0,1],[0,1],label='baseline',color='red')\n",
    "plt.xlabel('FPR',fontsize=15)\n",
    "plt.ylabel('TPR',fontsize=15)\n",
    "plt.title('AUC-ROC',fontsize=20)\n",
    "plt.show()\n",
    "roc_auc_score(y_test,predicted_probabilities[:,1])"
   ]
  },
  {
   "cell_type": "markdown",
   "id": "f02ed0a1",
   "metadata": {},
   "source": [
    "# Random Forest"
   ]
  },
  {
   "cell_type": "code",
   "execution_count": 115,
   "id": "1afa4bee",
   "metadata": {},
   "outputs": [],
   "source": [
    "from sklearn.ensemble import RandomForestClassifier as RFC"
   ]
  },
  {
   "cell_type": "code",
   "execution_count": 116,
   "id": "d02a8e5c",
   "metadata": {},
   "outputs": [
    {
     "name": "stdout",
     "output_type": "stream",
     "text": [
      "              precision    recall  f1-score   support\n",
      "\n",
      "           0       0.99      0.99      0.99       407\n",
      "           1       0.99      1.00      0.99       665\n",
      "\n",
      "    accuracy                           0.99      1072\n",
      "   macro avg       0.99      0.99      0.99      1072\n",
      "weighted avg       0.99      0.99      0.99      1072\n",
      "\n"
     ]
    }
   ],
   "source": [
    "classifier=RFC()\n",
    "classifier.fit(x_train,y_train)\n",
    "predicted_values=classifier.predict(x_train)\n",
    "from sklearn.metrics import classification_report\n",
    "print(classification_report(y_train,predicted_values))"
   ]
  },
  {
   "cell_type": "code",
   "execution_count": 117,
   "id": "dd7efcd1",
   "metadata": {},
   "outputs": [
    {
     "name": "stdout",
     "output_type": "stream",
     "text": [
      "              precision    recall  f1-score   support\n",
      "\n",
      "           0       0.59      0.55      0.57       102\n",
      "           1       0.73      0.77      0.75       166\n",
      "\n",
      "    accuracy                           0.68       268\n",
      "   macro avg       0.66      0.66      0.66       268\n",
      "weighted avg       0.68      0.68      0.68       268\n",
      "\n"
     ]
    }
   ],
   "source": [
    "predicted_values=classifier.predict(x_test)\n",
    "print(classification_report(y_test,predicted_values))"
   ]
  },
  {
   "cell_type": "code",
   "execution_count": 118,
   "id": "538b6636",
   "metadata": {},
   "outputs": [],
   "source": [
    "#calc_score to take model and the data and return the performance of the model"
   ]
  },
  {
   "cell_type": "code",
   "execution_count": 119,
   "id": "ebd91b58",
   "metadata": {},
   "outputs": [],
   "source": [
    "from sklearn.metrics import f1_score\n",
    "def calc_score(model,x1,y1,x2,y2):\n",
    " model.fit(x1,y1)\n",
    " predict=model.predict(x1)\n",
    " f1=f1_score(y1,predict)\n",
    " predict=model.predict(x2)\n",
    " f2=f1_score(y2,predict)\n",
    " return f1,f2"
   ]
  },
  {
   "cell_type": "code",
   "execution_count": 120,
   "id": "e9a14a09",
   "metadata": {},
   "outputs": [],
   "source": [
    "#effect to visualize how the different values of the parameter affect the performance of the model"
   ]
  },
  {
   "cell_type": "code",
   "execution_count": 121,
   "id": "6177e6ed",
   "metadata": {},
   "outputs": [],
   "source": [
    "def effect(train_score,test_score,x_axis,title):\n",
    "    plt.figure(figsize=(7,4),dpi=120)\n",
    "    plt.plot(x_axis,train_score,color='red',label='train_Score')\n",
    "    plt.plot(x_axis,test_score,color='blue',label='test_Score')\n",
    "    plt.title(title)\n",
    "    plt.legend()\n",
    "    plt.xlabel(\"parameter_value\")\n",
    "    plt.ylabel(\"f1_score\")\n",
    "    plt.show()"
   ]
  },
  {
   "cell_type": "code",
   "execution_count": 122,
   "id": "f6c134a2",
   "metadata": {},
   "outputs": [
    {
     "data": {
      "text/plain": [
       "RandomForestClassifier()"
      ]
     },
     "execution_count": 122,
     "metadata": {},
     "output_type": "execute_result"
    }
   ],
   "source": [
    "classifier=RFC()\n",
    "classifier.fit(x_train,y_train)"
   ]
  },
  {
   "cell_type": "code",
   "execution_count": 123,
   "id": "5189ceed",
   "metadata": {},
   "outputs": [],
   "source": [
    "estimators=[i for i in range(1,600,10)]\n",
    "train=[]\n",
    "test=[]\n",
    "for i in estimators:\n",
    "    model=RFC(class_weight='balanced_subsample',\n",
    "             n_estimators=i,\n",
    "             n_jobs=-1,\n",
    "             max_depth=7,\n",
    "             random_state=101)\n",
    "    f1,f2=calc_score(model,x_train,y_train,x_test,y_test)\n",
    "    train.append(f1)\n",
    "    test.append(f2)"
   ]
  },
  {
   "cell_type": "code",
   "execution_count": 124,
   "id": "d6b318ab",
   "metadata": {},
   "outputs": [
    {
     "data": {
      "image/png": "[encoded data removed]",
      "text/plain": [
       "<Figure size 840x480 with 1 Axes>"
      ]
     },
     "metadata": {
      "needs_background": "light"
     },
     "output_type": "display_data"
    }
   ],
   "source": [
    "effect(train,test,range(1,600,10),'n_estimators')"
   ]
  },
  {
   "cell_type": "markdown",
   "id": "df93b627",
   "metadata": {},
   "source": [
    "# max_samples"
   ]
  },
  {
   "cell_type": "code",
   "execution_count": 125,
   "id": "739e6d59",
   "metadata": {},
   "outputs": [],
   "source": [
    "maxsamples=[i/1000 for i in range(1,1000)]\n",
    "train=[]\n",
    "test=[]\n",
    "\n",
    "for i in maxsamples:\n",
    "    model=RFC(class_weight=\"balanced_subsample\",n_estimators=50,\n",
    "             n_jobs=-1,max_depth=7,random_state=101,max_samples=i)\n",
    "    f1,f2=calc_score(model,x_train,y_train,x_test,y_test)\n",
    "    train.append(f1)\n",
    "    test.append(f2)"
   ]
  },
  {
   "cell_type": "code",
   "execution_count": 126,
   "id": "8956ed44",
   "metadata": {},
   "outputs": [
    {
     "data": {
      "image/png": "[encoded data removed]",
      "text/plain": [
       "<Figure size 840x480 with 1 Axes>"
      ]
     },
     "metadata": {
      "needs_background": "light"
     },
     "output_type": "display_data"
    }
   ],
   "source": [
    "effect(train,test,maxsamples,'bootstrap sample fraction')"
   ]
  },
  {
   "cell_type": "markdown",
   "id": "ac7a1d7c",
   "metadata": {},
   "source": [
    "# max_features"
   ]
  },
  {
   "cell_type": "code",
   "execution_count": 135,
   "id": "a00f112c",
   "metadata": {},
   "outputs": [],
   "source": [
    "maxfeatures=range(1,X.shape[1])\n",
    "train=[]\n",
    "test=[]\n",
    "\n",
    "for i in maxfeatures:\n",
    " model=RFC(class_weight=\"balanced_subsample\",n_estimators=50,\n",
    "             n_jobs=-1,max_depth=7,random_state=101,max_features=i)\n",
    " f1,f2=calc_score(model,x_train,y_train,x_test,y_test)\n",
    " train.append(f1)\n",
    " test.append(f2)"
   ]
  },
  {
   "cell_type": "code",
   "execution_count": 136,
   "id": "460b86f6",
   "metadata": {},
   "outputs": [
    {
     "data": {
      "image/png": "[encoded data removed]",
      "text/plain": [
       "<Figure size 840x480 with 1 Axes>"
      ]
     },
     "metadata": {
      "needs_background": "light"
     },
     "output_type": "display_data"
    }
   ],
   "source": [
    "effect(train,test,maxfeatures,'number of max features for individual tree')"
   ]
  },
  {
   "cell_type": "code",
   "execution_count": 129,
   "id": "57c83a5a",
   "metadata": {},
   "outputs": [],
   "source": [
    "#default parameter value=sqrt(number of features present in the dataset)"
   ]
  },
  {
   "cell_type": "code",
   "execution_count": 137,
   "id": "ed297b73",
   "metadata": {},
   "outputs": [],
   "source": [
    "#perform regularization to reduce overfitting spotted in maxfeatures"
   ]
  },
  {
   "cell_type": "code",
   "execution_count": null,
   "id": "dc3e8a21",
   "metadata": {},
   "outputs": [],
   "source": []
  }
 ],
 "metadata": {
  "kernelspec": {
   "display_name": "Python 3",
   "language": "python",
   "name": "python3"
  },
  "language_info": {
   "codemirror_mode": {
    "name": "ipython",
    "version": 3
   },
   "file_extension": ".py",
   "mimetype": "text/x-python",
   "name": "python",
   "nbconvert_exporter": "python",
   "pygments_lexer": "ipython3",
   "version": "3.8.8"
  }
 },
 "nbformat": 4,
 "nbformat_minor": 5
}
