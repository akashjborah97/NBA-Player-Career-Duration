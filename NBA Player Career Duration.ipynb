{
 "cells": [
  {
   "cell_type": "code",
   "execution_count": 303,
   "id": "8782a425",
   "metadata": {},
   "outputs": [],
   "source": [
    "import numpy as np\n",
    "import pandas as pd\n",
    "import matplotlib.pyplot as plt"
   ]
  },
  {
   "cell_type": "code",
   "execution_count": 304,
   "id": "0b930183",
   "metadata": {},
   "outputs": [
    {
     "name": "stdout",
     "output_type": "stream",
     "text": [
      "<class 'pandas.core.frame.DataFrame'>\n",
      "RangeIndex: 1340 entries, 0 to 1339\n",
      "Data columns (total 22 columns):\n",
      " #   Column       Non-Null Count  Dtype  \n",
      "---  ------       --------------  -----  \n",
      " 0   Unnamed: 0   1340 non-null   int64  \n",
      " 1   name         1340 non-null   object \n",
      " 2   gp           1340 non-null   int64  \n",
      " 3   min          1340 non-null   float64\n",
      " 4   pts          1340 non-null   float64\n",
      " 5   fgm          1340 non-null   float64\n",
      " 6   fga          1340 non-null   float64\n",
      " 7   fg           1340 non-null   float64\n",
      " 8   3p_made      1340 non-null   float64\n",
      " 9   3pa          1340 non-null   float64\n",
      " 10  3p           1340 non-null   float64\n",
      " 11  ftm          1340 non-null   float64\n",
      " 12  fta          1340 non-null   float64\n",
      " 13  ft           1340 non-null   float64\n",
      " 14  oreb         1340 non-null   float64\n",
      " 15  dreb         1340 non-null   float64\n",
      " 16  reb          1340 non-null   float64\n",
      " 17  ast          1340 non-null   float64\n",
      " 18  stl          1340 non-null   float64\n",
      " 19  blk          1340 non-null   float64\n",
      " 20  tov          1340 non-null   float64\n",
      " 21  target_5yrs  1340 non-null   int64  \n",
      "dtypes: float64(18), int64(3), object(1)\n",
      "memory usage: 230.4+ KB\n"
     ]
    }
   ],
   "source": [
    "data= pd.read_csv('nba-players.csv') \n",
    "data.info()"
   ]
  },
  {
   "cell_type": "code",
   "execution_count": 305,
   "id": "797c3359",
   "metadata": {},
   "outputs": [
    {
     "data": {
      "text/html": [
       "<div>\n",
       "<style scoped>\n",
       "    .dataframe tbody tr th:only-of-type {\n",
       "        vertical-align: middle;\n",
       "    }\n",
       "\n",
       "    .dataframe tbody tr th {\n",
       "        vertical-align: top;\n",
       "    }\n",
       "\n",
       "    .dataframe thead th {\n",
       "        text-align: right;\n",
       "    }\n",
       "</style>\n",
       "<table border=\"1\" class=\"dataframe\">\n",
       "  <thead>\n",
       "    <tr style=\"text-align: right;\">\n",
       "      <th></th>\n",
       "      <th>Unnamed: 0</th>\n",
       "      <th>name</th>\n",
       "      <th>gp</th>\n",
       "      <th>min</th>\n",
       "      <th>pts</th>\n",
       "      <th>fgm</th>\n",
       "      <th>fga</th>\n",
       "      <th>fg</th>\n",
       "      <th>3p_made</th>\n",
       "      <th>3pa</th>\n",
       "      <th>...</th>\n",
       "      <th>fta</th>\n",
       "      <th>ft</th>\n",
       "      <th>oreb</th>\n",
       "      <th>dreb</th>\n",
       "      <th>reb</th>\n",
       "      <th>ast</th>\n",
       "      <th>stl</th>\n",
       "      <th>blk</th>\n",
       "      <th>tov</th>\n",
       "      <th>target_5yrs</th>\n",
       "    </tr>\n",
       "  </thead>\n",
       "  <tbody>\n",
       "    <tr>\n",
       "      <th>0</th>\n",
       "      <td>0</td>\n",
       "      <td>Brandon Ingram</td>\n",
       "      <td>36</td>\n",
       "      <td>27.4</td>\n",
       "      <td>7.4</td>\n",
       "      <td>2.6</td>\n",
       "      <td>7.6</td>\n",
       "      <td>34.7</td>\n",
       "      <td>0.5</td>\n",
       "      <td>2.1</td>\n",
       "      <td>...</td>\n",
       "      <td>2.3</td>\n",
       "      <td>69.9</td>\n",
       "      <td>0.7</td>\n",
       "      <td>3.4</td>\n",
       "      <td>4.1</td>\n",
       "      <td>1.9</td>\n",
       "      <td>0.4</td>\n",
       "      <td>0.4</td>\n",
       "      <td>1.3</td>\n",
       "      <td>0</td>\n",
       "    </tr>\n",
       "    <tr>\n",
       "      <th>1</th>\n",
       "      <td>1</td>\n",
       "      <td>Andrew Harrison</td>\n",
       "      <td>35</td>\n",
       "      <td>26.9</td>\n",
       "      <td>7.2</td>\n",
       "      <td>2.0</td>\n",
       "      <td>6.7</td>\n",
       "      <td>29.6</td>\n",
       "      <td>0.7</td>\n",
       "      <td>2.8</td>\n",
       "      <td>...</td>\n",
       "      <td>3.4</td>\n",
       "      <td>76.5</td>\n",
       "      <td>0.5</td>\n",
       "      <td>2.0</td>\n",
       "      <td>2.4</td>\n",
       "      <td>3.7</td>\n",
       "      <td>1.1</td>\n",
       "      <td>0.5</td>\n",
       "      <td>1.6</td>\n",
       "      <td>0</td>\n",
       "    </tr>\n",
       "    <tr>\n",
       "      <th>2</th>\n",
       "      <td>2</td>\n",
       "      <td>JaKarr Sampson</td>\n",
       "      <td>74</td>\n",
       "      <td>15.3</td>\n",
       "      <td>5.2</td>\n",
       "      <td>2.0</td>\n",
       "      <td>4.7</td>\n",
       "      <td>42.2</td>\n",
       "      <td>0.4</td>\n",
       "      <td>1.7</td>\n",
       "      <td>...</td>\n",
       "      <td>1.3</td>\n",
       "      <td>67.0</td>\n",
       "      <td>0.5</td>\n",
       "      <td>1.7</td>\n",
       "      <td>2.2</td>\n",
       "      <td>1.0</td>\n",
       "      <td>0.5</td>\n",
       "      <td>0.3</td>\n",
       "      <td>1.0</td>\n",
       "      <td>0</td>\n",
       "    </tr>\n",
       "    <tr>\n",
       "      <th>3</th>\n",
       "      <td>3</td>\n",
       "      <td>Malik Sealy</td>\n",
       "      <td>58</td>\n",
       "      <td>11.6</td>\n",
       "      <td>5.7</td>\n",
       "      <td>2.3</td>\n",
       "      <td>5.5</td>\n",
       "      <td>42.6</td>\n",
       "      <td>0.1</td>\n",
       "      <td>0.5</td>\n",
       "      <td>...</td>\n",
       "      <td>1.3</td>\n",
       "      <td>68.9</td>\n",
       "      <td>1.0</td>\n",
       "      <td>0.9</td>\n",
       "      <td>1.9</td>\n",
       "      <td>0.8</td>\n",
       "      <td>0.6</td>\n",
       "      <td>0.1</td>\n",
       "      <td>1.0</td>\n",
       "      <td>1</td>\n",
       "    </tr>\n",
       "    <tr>\n",
       "      <th>4</th>\n",
       "      <td>4</td>\n",
       "      <td>Matt Geiger</td>\n",
       "      <td>48</td>\n",
       "      <td>11.5</td>\n",
       "      <td>4.5</td>\n",
       "      <td>1.6</td>\n",
       "      <td>3.0</td>\n",
       "      <td>52.4</td>\n",
       "      <td>0.0</td>\n",
       "      <td>0.1</td>\n",
       "      <td>...</td>\n",
       "      <td>1.9</td>\n",
       "      <td>67.4</td>\n",
       "      <td>1.0</td>\n",
       "      <td>1.5</td>\n",
       "      <td>2.5</td>\n",
       "      <td>0.3</td>\n",
       "      <td>0.3</td>\n",
       "      <td>0.4</td>\n",
       "      <td>0.8</td>\n",
       "      <td>1</td>\n",
       "    </tr>\n",
       "    <tr>\n",
       "      <th>5</th>\n",
       "      <td>5</td>\n",
       "      <td>Tony Bennett</td>\n",
       "      <td>75</td>\n",
       "      <td>11.4</td>\n",
       "      <td>3.7</td>\n",
       "      <td>1.5</td>\n",
       "      <td>3.5</td>\n",
       "      <td>42.3</td>\n",
       "      <td>0.3</td>\n",
       "      <td>1.1</td>\n",
       "      <td>...</td>\n",
       "      <td>0.5</td>\n",
       "      <td>73.2</td>\n",
       "      <td>0.2</td>\n",
       "      <td>0.7</td>\n",
       "      <td>0.8</td>\n",
       "      <td>1.8</td>\n",
       "      <td>0.4</td>\n",
       "      <td>0.0</td>\n",
       "      <td>0.7</td>\n",
       "      <td>0</td>\n",
       "    </tr>\n",
       "    <tr>\n",
       "      <th>6</th>\n",
       "      <td>6</td>\n",
       "      <td>Don MacLean</td>\n",
       "      <td>62</td>\n",
       "      <td>10.9</td>\n",
       "      <td>6.6</td>\n",
       "      <td>2.5</td>\n",
       "      <td>5.8</td>\n",
       "      <td>43.5</td>\n",
       "      <td>0.0</td>\n",
       "      <td>0.1</td>\n",
       "      <td>...</td>\n",
       "      <td>1.8</td>\n",
       "      <td>81.1</td>\n",
       "      <td>0.5</td>\n",
       "      <td>1.4</td>\n",
       "      <td>2.0</td>\n",
       "      <td>0.6</td>\n",
       "      <td>0.2</td>\n",
       "      <td>0.1</td>\n",
       "      <td>0.7</td>\n",
       "      <td>1</td>\n",
       "    </tr>\n",
       "    <tr>\n",
       "      <th>7</th>\n",
       "      <td>7</td>\n",
       "      <td>Tracy Murray</td>\n",
       "      <td>48</td>\n",
       "      <td>10.3</td>\n",
       "      <td>5.7</td>\n",
       "      <td>2.3</td>\n",
       "      <td>5.4</td>\n",
       "      <td>41.5</td>\n",
       "      <td>0.4</td>\n",
       "      <td>1.5</td>\n",
       "      <td>...</td>\n",
       "      <td>0.8</td>\n",
       "      <td>87.5</td>\n",
       "      <td>0.8</td>\n",
       "      <td>0.9</td>\n",
       "      <td>1.7</td>\n",
       "      <td>0.2</td>\n",
       "      <td>0.2</td>\n",
       "      <td>0.1</td>\n",
       "      <td>0.7</td>\n",
       "      <td>1</td>\n",
       "    </tr>\n",
       "    <tr>\n",
       "      <th>8</th>\n",
       "      <td>8</td>\n",
       "      <td>Duane Cooper</td>\n",
       "      <td>65</td>\n",
       "      <td>9.9</td>\n",
       "      <td>2.4</td>\n",
       "      <td>1.0</td>\n",
       "      <td>2.4</td>\n",
       "      <td>39.2</td>\n",
       "      <td>0.1</td>\n",
       "      <td>0.5</td>\n",
       "      <td>...</td>\n",
       "      <td>0.5</td>\n",
       "      <td>71.4</td>\n",
       "      <td>0.2</td>\n",
       "      <td>0.6</td>\n",
       "      <td>0.8</td>\n",
       "      <td>2.3</td>\n",
       "      <td>0.3</td>\n",
       "      <td>0.0</td>\n",
       "      <td>1.1</td>\n",
       "      <td>0</td>\n",
       "    </tr>\n",
       "    <tr>\n",
       "      <th>9</th>\n",
       "      <td>9</td>\n",
       "      <td>Dave Johnson</td>\n",
       "      <td>42</td>\n",
       "      <td>8.5</td>\n",
       "      <td>3.7</td>\n",
       "      <td>1.4</td>\n",
       "      <td>3.5</td>\n",
       "      <td>38.3</td>\n",
       "      <td>0.1</td>\n",
       "      <td>0.3</td>\n",
       "      <td>...</td>\n",
       "      <td>1.4</td>\n",
       "      <td>67.8</td>\n",
       "      <td>0.4</td>\n",
       "      <td>0.7</td>\n",
       "      <td>1.1</td>\n",
       "      <td>0.3</td>\n",
       "      <td>0.2</td>\n",
       "      <td>0.0</td>\n",
       "      <td>0.7</td>\n",
       "      <td>0</td>\n",
       "    </tr>\n",
       "  </tbody>\n",
       "</table>\n",
       "<p>10 rows × 22 columns</p>\n",
       "</div>"
      ],
      "text/plain": [
       "   Unnamed: 0             name  gp   min  pts  fgm  fga    fg  3p_made  3pa  \\\n",
       "0           0   Brandon Ingram  36  27.4  7.4  2.6  7.6  34.7      0.5  2.1   \n",
       "1           1  Andrew Harrison  35  26.9  7.2  2.0  6.7  29.6      0.7  2.8   \n",
       "2           2   JaKarr Sampson  74  15.3  5.2  2.0  4.7  42.2      0.4  1.7   \n",
       "3           3      Malik Sealy  58  11.6  5.7  2.3  5.5  42.6      0.1  0.5   \n",
       "4           4      Matt Geiger  48  11.5  4.5  1.6  3.0  52.4      0.0  0.1   \n",
       "5           5     Tony Bennett  75  11.4  3.7  1.5  3.5  42.3      0.3  1.1   \n",
       "6           6      Don MacLean  62  10.9  6.6  2.5  5.8  43.5      0.0  0.1   \n",
       "7           7     Tracy Murray  48  10.3  5.7  2.3  5.4  41.5      0.4  1.5   \n",
       "8           8     Duane Cooper  65   9.9  2.4  1.0  2.4  39.2      0.1  0.5   \n",
       "9           9     Dave Johnson  42   8.5  3.7  1.4  3.5  38.3      0.1  0.3   \n",
       "\n",
       "   ...  fta    ft  oreb  dreb  reb  ast  stl  blk  tov  target_5yrs  \n",
       "0  ...  2.3  69.9   0.7   3.4  4.1  1.9  0.4  0.4  1.3            0  \n",
       "1  ...  3.4  76.5   0.5   2.0  2.4  3.7  1.1  0.5  1.6            0  \n",
       "2  ...  1.3  67.0   0.5   1.7  2.2  1.0  0.5  0.3  1.0            0  \n",
       "3  ...  1.3  68.9   1.0   0.9  1.9  0.8  0.6  0.1  1.0            1  \n",
       "4  ...  1.9  67.4   1.0   1.5  2.5  0.3  0.3  0.4  0.8            1  \n",
       "5  ...  0.5  73.2   0.2   0.7  0.8  1.8  0.4  0.0  0.7            0  \n",
       "6  ...  1.8  81.1   0.5   1.4  2.0  0.6  0.2  0.1  0.7            1  \n",
       "7  ...  0.8  87.5   0.8   0.9  1.7  0.2  0.2  0.1  0.7            1  \n",
       "8  ...  0.5  71.4   0.2   0.6  0.8  2.3  0.3  0.0  1.1            0  \n",
       "9  ...  1.4  67.8   0.4   0.7  1.1  0.3  0.2  0.0  0.7            0  \n",
       "\n",
       "[10 rows x 22 columns]"
      ]
     },
     "execution_count": 305,
     "metadata": {},
     "output_type": "execute_result"
    }
   ],
   "source": [
    "data.head(10)"
   ]
  },
  {
   "cell_type": "markdown",
   "id": "3d9b18a8",
   "metadata": {},
   "source": [
    "# Checking the dataset distribution "
   ]
  },
  {
   "cell_type": "code",
   "execution_count": 306,
   "id": "20982f50",
   "metadata": {},
   "outputs": [
    {
     "data": {
      "text/plain": [
       "1    0.620149\n",
       "0    0.379851\n",
       "Name: target_5yrs, dtype: float64"
      ]
     },
     "execution_count": 306,
     "metadata": {},
     "output_type": "execute_result"
    }
   ],
   "source": [
    "data['target_5yrs'].value_counts()/len(data)"
   ]
  },
  {
   "cell_type": "markdown",
   "id": "9b9f13ae",
   "metadata": {},
   "source": [
    "# Seperating dependent and independent variable"
   ]
  },
  {
   "cell_type": "code",
   "execution_count": 307,
   "id": "521a1763",
   "metadata": {},
   "outputs": [],
   "source": [
    "X=data.drop(columns=['target_5yrs','Unnamed: 0','name'])\n",
    "Y=data['target_5yrs']"
   ]
  },
  {
   "cell_type": "code",
   "execution_count": 308,
   "id": "9d58f6d8",
   "metadata": {},
   "outputs": [
    {
     "data": {
      "text/plain": [
       "(1340, 19)"
      ]
     },
     "execution_count": 308,
     "metadata": {},
     "output_type": "execute_result"
    }
   ],
   "source": [
    "X.shape"
   ]
  },
  {
   "cell_type": "code",
   "execution_count": 309,
   "id": "fdc1418b",
   "metadata": {},
   "outputs": [
    {
     "data": {
      "text/plain": [
       "(1340,)"
      ]
     },
     "execution_count": 309,
     "metadata": {},
     "output_type": "execute_result"
    }
   ],
   "source": [
    "Y.shape"
   ]
  },
  {
   "cell_type": "markdown",
   "id": "9c2bbae8",
   "metadata": {},
   "source": [
    "# Scaling the dataset"
   ]
  },
  {
   "cell_type": "code",
   "execution_count": 310,
   "id": "1a752503",
   "metadata": {},
   "outputs": [],
   "source": [
    "from sklearn.preprocessing import StandardScaler\n",
    "scaler=StandardScaler()\n",
    "scaled_X=scaler.fit_transform(X)"
   ]
  },
  {
   "cell_type": "markdown",
   "id": "b69c986a",
   "metadata": {},
   "source": [
    "# Splitting the dataset"
   ]
  },
  {
   "cell_type": "code",
   "execution_count": 311,
   "id": "96a8f715",
   "metadata": {},
   "outputs": [
    {
     "data": {
      "text/plain": [
       "((670, 19), (670, 19), (670,), (670,))"
      ]
     },
     "execution_count": 311,
     "metadata": {},
     "output_type": "execute_result"
    }
   ],
   "source": [
    "from sklearn.model_selection import train_test_split as tts\n",
    "x_train,x_test,y_train,y_test=tts(scaled_X,Y,train_size=0.50,stratify=Y,random_state=101)\n",
    "x_train.shape,x_test.shape,y_train.shape,y_test.shape"
   ]
  },
  {
   "cell_type": "markdown",
   "id": "bcf88586",
   "metadata": {},
   "source": [
    "# Model Building, predictions and odds ratio"
   ]
  },
  {
   "cell_type": "code",
   "execution_count": 312,
   "id": "b4b0e9a8",
   "metadata": {},
   "outputs": [
    {
     "data": {
      "text/plain": [
       "(array([[0.38053212, 0.61946788],\n",
       "        [0.25108315, 0.74891685],\n",
       "        [0.69839981, 0.30160019],\n",
       "        ...,\n",
       "        [0.45098438, 0.54901562],\n",
       "        [0.85319948, 0.14680052],\n",
       "        [0.65910427, 0.34089573]]),\n",
       " (670, 2))"
      ]
     },
     "execution_count": 312,
     "metadata": {},
     "output_type": "execute_result"
    }
   ],
   "source": [
    "from sklearn.linear_model import LogisticRegression as LR\n",
    "classifier=LR(class_weight='balanced')\n",
    "classifier.fit(x_train,y_train)\n",
    "predicted_values=classifier.predict(x_test)\n",
    "predicted_probabilities=classifier.predict_proba(x_test)\n",
    "predicted_values\n",
    "predicted_probabilities,predicted_probabilities.shape"
   ]
  },
  {
   "cell_type": "code",
   "execution_count": 313,
   "id": "c0cb31cc",
   "metadata": {},
   "outputs": [
    {
     "data": {
      "text/plain": [
       "(670,)"
      ]
     },
     "execution_count": 313,
     "metadata": {},
     "output_type": "execute_result"
    }
   ],
   "source": [
    "y_train.shape"
   ]
  },
  {
   "cell_type": "code",
   "execution_count": 314,
   "id": "372b258b",
   "metadata": {},
   "outputs": [
    {
     "data": {
      "text/plain": [
       "(670,)"
      ]
     },
     "execution_count": 314,
     "metadata": {},
     "output_type": "execute_result"
    }
   ],
   "source": [
    "predicted_values.shape"
   ]
  },
  {
   "cell_type": "code",
   "execution_count": 315,
   "id": "d809eae2",
   "metadata": {},
   "outputs": [
    {
     "data": {
      "text/plain": [
       "(670,)"
      ]
     },
     "execution_count": 315,
     "metadata": {},
     "output_type": "execute_result"
    }
   ],
   "source": [
    "y_test.shape"
   ]
  },
  {
   "cell_type": "markdown",
   "id": "fb3b3153",
   "metadata": {},
   "source": [
    "# Confusion matrix LR"
   ]
  },
  {
   "cell_type": "code",
   "execution_count": 316,
   "id": "4b1f3c05",
   "metadata": {},
   "outputs": [
    {
     "data": {
      "text/plain": [
       "array([[174,  80],\n",
       "       [137, 279]])"
      ]
     },
     "execution_count": 316,
     "metadata": {},
     "output_type": "execute_result"
    }
   ],
   "source": [
    "from sklearn.metrics import confusion_matrix\n",
    "cf=confusion_matrix(y_test,predicted_values)\n",
    "cf"
   ]
  },
  {
   "cell_type": "markdown",
   "id": "d62d6409",
   "metadata": {},
   "source": [
    "1.Accuracy"
   ]
  },
  {
   "cell_type": "code",
   "execution_count": 317,
   "id": "0ab803d9",
   "metadata": {},
   "outputs": [
    {
     "data": {
      "text/plain": [
       "0.6761194029850747"
      ]
     },
     "execution_count": 317,
     "metadata": {},
     "output_type": "execute_result"
    }
   ],
   "source": [
    "classifier.score(x_test,y_test)"
   ]
  },
  {
   "cell_type": "markdown",
   "id": "e4157272",
   "metadata": {},
   "source": [
    "2.Calculating the precision score"
   ]
  },
  {
   "cell_type": "code",
   "execution_count": 318,
   "id": "7ea00c5e",
   "metadata": {},
   "outputs": [],
   "source": [
    "from sklearn.metrics import precision_recall_fscore_support as PRF_summary\n",
    "precision,recall,f1,support=PRF_summary(y_test,predicted_values)"
   ]
  },
  {
   "cell_type": "code",
   "execution_count": 319,
   "id": "0c3e4143",
   "metadata": {},
   "outputs": [
    {
     "data": {
      "text/plain": [
       "array([0.55948553, 0.77715877])"
      ]
     },
     "execution_count": 319,
     "metadata": {},
     "output_type": "execute_result"
    }
   ],
   "source": [
    "precision"
   ]
  },
  {
   "cell_type": "code",
   "execution_count": 320,
   "id": "51da369d",
   "metadata": {},
   "outputs": [
    {
     "data": {
      "text/plain": [
       "array([0.68503937, 0.67067308])"
      ]
     },
     "execution_count": 320,
     "metadata": {},
     "output_type": "execute_result"
    }
   ],
   "source": [
    "recall"
   ]
  },
  {
   "cell_type": "code",
   "execution_count": 321,
   "id": "5f14aac8",
   "metadata": {},
   "outputs": [
    {
     "data": {
      "text/plain": [
       "array([0.6159292, 0.72     ])"
      ]
     },
     "execution_count": 321,
     "metadata": {},
     "output_type": "execute_result"
    }
   ],
   "source": [
    "f1"
   ]
  },
  {
   "cell_type": "code",
   "execution_count": 322,
   "id": "843e254d",
   "metadata": {},
   "outputs": [
    {
     "data": {
      "text/plain": [
       "array([254, 416])"
      ]
     },
     "execution_count": 322,
     "metadata": {},
     "output_type": "execute_result"
    }
   ],
   "source": [
    "support"
   ]
  },
  {
   "cell_type": "markdown",
   "id": "12ef2cb2",
   "metadata": {},
   "source": [
    "Only for representation"
   ]
  },
  {
   "cell_type": "code",
   "execution_count": 323,
   "id": "d73ea7ad",
   "metadata": {},
   "outputs": [
    {
     "name": "stdout",
     "output_type": "stream",
     "text": [
      "              precision    recall  f1-score   support\n",
      "\n",
      "           0       0.37      0.45      0.40       255\n",
      "           1       0.61      0.53      0.56       415\n",
      "\n",
      "    accuracy                           0.50       670\n",
      "   macro avg       0.49      0.49      0.48       670\n",
      "weighted avg       0.52      0.50      0.50       670\n",
      "\n"
     ]
    }
   ],
   "source": [
    "from sklearn.metrics import classification_report\n",
    "k=classification_report(y_train,predicted_values)\n",
    "print(k)"
   ]
  },
  {
   "cell_type": "code",
   "execution_count": 324,
   "id": "48179ed9",
   "metadata": {},
   "outputs": [
    {
     "name": "stdout",
     "output_type": "stream",
     "text": [
      "              precision    recall  f1-score   support\n",
      "\n",
      "           0       0.56      0.69      0.62       254\n",
      "           1       0.78      0.67      0.72       416\n",
      "\n",
      "    accuracy                           0.68       670\n",
      "   macro avg       0.67      0.68      0.67       670\n",
      "weighted avg       0.69      0.68      0.68       670\n",
      "\n"
     ]
    }
   ],
   "source": [
    "from sklearn.metrics import classification_report\n",
    "k=classification_report(y_test,predicted_values)\n",
    "print(k)"
   ]
  },
  {
   "cell_type": "markdown",
   "id": "65cd9409",
   "metadata": {},
   "source": [
    "# Precision-Recall Curve LR"
   ]
  },
  {
   "cell_type": "code",
   "execution_count": 325,
   "id": "78b19081",
   "metadata": {},
   "outputs": [
    {
     "data": {
      "text/plain": [
       "((654,), (654,), (653,))"
      ]
     },
     "execution_count": 325,
     "metadata": {},
     "output_type": "execute_result"
    }
   ],
   "source": [
    "#gathering Precision/recall scores from different threshold\n",
    "from sklearn.metrics import precision_recall_curve\n",
    "precision_points,recall_points,threshold_points=precision_recall_curve(y_test,predicted_probabilities[:,1])\n",
    "precision_points.shape,recall_points.shape,threshold_points.shape"
   ]
  },
  {
   "cell_type": "code",
   "execution_count": 326,
   "id": "8e223756",
   "metadata": {},
   "outputs": [
    {
     "data": {
      "text/plain": [
       "<matplotlib.legend.Legend at 0x7fecf81005b0>"
      ]
     },
     "execution_count": 326,
     "metadata": {},
     "output_type": "execute_result"
    },
    {
     "data": {
      "image/png": "[encoded data removed]",
      "text/plain": [
       "<Figure size 700x500 with 1 Axes>"
      ]
     },
     "metadata": {
      "needs_background": "light"
     },
     "output_type": "display_data"
    }
   ],
   "source": [
    "#compare if threshold is less than precision & recall \n",
    "#if less -1 minus in plotting\n",
    "plt.figure(figsize=(7,5),dpi=100)\n",
    "plt.plot(threshold_points,precision_points[:-1],color='green',label='Precision')\n",
    "plt.plot(threshold_points,recall_points[:-1],color='orange',label='Recall')\n",
    "plt.xlabel('Threshold Points',fontsize=15)\n",
    "plt.ylabel('Score',fontsize=15)\n",
    "plt.title('Precision-Recall tradeoff',fontsize=20)\n",
    "plt.legend()"
   ]
  },
  {
   "cell_type": "markdown",
   "id": "3b66cb2a",
   "metadata": {},
   "source": [
    "# AUC-ROC Curve LR"
   ]
  },
  {
   "cell_type": "code",
   "execution_count": 327,
   "id": "215f96d7",
   "metadata": {},
   "outputs": [
    {
     "data": {
      "image/png": "[encoded data removed]",
      "text/plain": [
       "<Figure size 700x500 with 1 Axes>"
      ]
     },
     "metadata": {
      "needs_background": "light"
     },
     "output_type": "display_data"
    },
    {
     "data": {
      "text/plain": [
       "0.7474021426408237"
      ]
     },
     "execution_count": 327,
     "metadata": {},
     "output_type": "execute_result"
    }
   ],
   "source": [
    "from sklearn.metrics import roc_curve,roc_auc_score\n",
    "fpr,tpr,threshold=roc_curve(y_test,predicted_probabilities[:,1])\n",
    "plt.figure(figsize=(7,5),dpi=100)\n",
    "plt.plot(fpr,tpr,color='green')\n",
    "plt.plot([0,1],[0,1],label='baseline',color='red')\n",
    "plt.xlabel('FPR',fontsize=15)\n",
    "plt.ylabel('TPR',fontsize=15)\n",
    "plt.title('AUC-ROC',fontsize=20)\n",
    "plt.show()\n",
    "roc_auc_score(y_test,predicted_probabilities[:,1])"
   ]
  },
  {
   "cell_type": "markdown",
   "id": "1a0847a6",
   "metadata": {},
   "source": [
    "# Coefficients Plot"
   ]
  },
  {
   "cell_type": "code",
   "execution_count": 328,
   "id": "70857626",
   "metadata": {},
   "outputs": [
    {
     "data": {
      "text/html": [
       "<div>\n",
       "<style scoped>\n",
       "    .dataframe tbody tr th:only-of-type {\n",
       "        vertical-align: middle;\n",
       "    }\n",
       "\n",
       "    .dataframe tbody tr th {\n",
       "        vertical-align: top;\n",
       "    }\n",
       "\n",
       "    .dataframe thead th {\n",
       "        text-align: right;\n",
       "    }\n",
       "</style>\n",
       "<table border=\"1\" class=\"dataframe\">\n",
       "  <thead>\n",
       "    <tr style=\"text-align: right;\">\n",
       "      <th></th>\n",
       "      <th>coefficients</th>\n",
       "      <th>variable</th>\n",
       "    </tr>\n",
       "  </thead>\n",
       "  <tbody>\n",
       "    <tr>\n",
       "      <th>1</th>\n",
       "      <td>-0.772940</td>\n",
       "      <td>min</td>\n",
       "    </tr>\n",
       "    <tr>\n",
       "      <th>13</th>\n",
       "      <td>-0.496275</td>\n",
       "      <td>dreb</td>\n",
       "    </tr>\n",
       "    <tr>\n",
       "      <th>10</th>\n",
       "      <td>-0.328503</td>\n",
       "      <td>fta</td>\n",
       "    </tr>\n",
       "    <tr>\n",
       "      <th>7</th>\n",
       "      <td>-0.284330</td>\n",
       "      <td>3pa</td>\n",
       "    </tr>\n",
       "    <tr>\n",
       "      <th>16</th>\n",
       "      <td>-0.064842</td>\n",
       "      <td>stl</td>\n",
       "    </tr>\n",
       "  </tbody>\n",
       "</table>\n",
       "</div>"
      ],
      "text/plain": [
       "    coefficients variable\n",
       "1      -0.772940      min\n",
       "13     -0.496275     dreb\n",
       "10     -0.328503      fta\n",
       "7      -0.284330      3pa\n",
       "16     -0.064842      stl"
      ]
     },
     "execution_count": 328,
     "metadata": {},
     "output_type": "execute_result"
    }
   ],
   "source": [
    "#arranging the data\n",
    "c=classifier.coef_.reshape(-1)\n",
    "x=X.columns\n",
    "coeff_plot=pd.DataFrame({\n",
    "    'coefficients':c,\n",
    "    'variable':x\n",
    "})\n",
    "#sorting the values\n",
    "coeff_plot=coeff_plot.sort_values(by='coefficients')\n",
    "coeff_plot.head()"
   ]
  },
  {
   "cell_type": "code",
   "execution_count": 329,
   "id": "fd4c7aa0",
   "metadata": {},
   "outputs": [
    {
     "data": {
      "text/plain": [
       "Text(0.5, 1.0, 'Coefficients plot')"
      ]
     },
     "execution_count": 329,
     "metadata": {},
     "output_type": "execute_result"
    },
    {
     "data": {
      "image/png": "[encoded data removed]",
      "text/plain": [
       "<Figure size 960x720 with 1 Axes>"
      ]
     },
     "metadata": {
      "needs_background": "light"
     },
     "output_type": "display_data"
    }
   ],
   "source": [
    "plt.figure(figsize=(8,6),dpi=120)\n",
    "plt.barh(coeff_plot['variable'],coeff_plot['coefficients'])\n",
    "plt.xlabel(\"Coefficients Magnitude\",fontsize=15)\n",
    "plt.ylabel('variables',fontsize=15)\n",
    "plt.title('Coefficients plot',fontsize=20)"
   ]
  },
  {
   "cell_type": "markdown",
   "id": "b00cbd90",
   "metadata": {},
   "source": [
    "# Decision Tree"
   ]
  },
  {
   "cell_type": "code",
   "execution_count": 330,
   "id": "48aef07a",
   "metadata": {},
   "outputs": [],
   "source": [
    "#from sklearn.tree import DecisionTreeClassifier as DTC\n",
    "#classifier=DTC(class_weight='balanced')\n",
    "#classifier=DTC()\n",
    "#classifier.fit(x_train,y_train)\n",
    "#predicted_values=classifier.predict(x_train)"
   ]
  },
  {
   "cell_type": "code",
   "execution_count": 331,
   "id": "7677b4b7",
   "metadata": {},
   "outputs": [],
   "source": [
    "#predicted_values[:30]"
   ]
  },
  {
   "cell_type": "code",
   "execution_count": 332,
   "id": "619948f8",
   "metadata": {},
   "outputs": [],
   "source": [
    "#y_train.shape"
   ]
  },
  {
   "cell_type": "code",
   "execution_count": 333,
   "id": "a57c628e",
   "metadata": {},
   "outputs": [],
   "source": [
    "#predicted_values.shape"
   ]
  },
  {
   "cell_type": "code",
   "execution_count": 334,
   "id": "e8331850",
   "metadata": {},
   "outputs": [],
   "source": [
    "#from sklearn.metrics import classification_report\n",
    "#print(classification_report(y_train,predicted_values))"
   ]
  },
  {
   "cell_type": "code",
   "execution_count": 335,
   "id": "c0b066f1",
   "metadata": {},
   "outputs": [],
   "source": [
    "#y_test.shape"
   ]
  },
  {
   "cell_type": "code",
   "execution_count": 336,
   "id": "5d56c6c1",
   "metadata": {},
   "outputs": [],
   "source": [
    "#predicted_values.shape"
   ]
  },
  {
   "cell_type": "code",
   "execution_count": 337,
   "id": "6c276ac3",
   "metadata": {},
   "outputs": [],
   "source": [
    "#from sklearn.metrics import classification_report\n",
    "#print(classification_report(y_test,predicted_values))"
   ]
  },
  {
   "cell_type": "markdown",
   "id": "48dea410",
   "metadata": {},
   "source": [
    " 1.Visualizing the decision tree"
   ]
  },
  {
   "cell_type": "code",
   "execution_count": 338,
   "id": "5ae08192",
   "metadata": {},
   "outputs": [],
   "source": [
    "#!pip install graphviz"
   ]
  },
  {
   "cell_type": "code",
   "execution_count": 339,
   "id": "acb0ff59",
   "metadata": {},
   "outputs": [],
   "source": [
    "#from sklearn.tree import export_graphviz\n",
    "#export_graphviz(decision_tree=classifier,out_file='tree_viz',max_depth=None,feature_name=X.columns,label=None,impurity=False)\n",
    "#from graphviz import render\n",
    "#render()"
   ]
  },
  {
   "cell_type": "markdown",
   "id": "09cd5996",
   "metadata": {},
   "source": [
    "# Bagging"
   ]
  },
  {
   "cell_type": "code",
   "execution_count": 340,
   "id": "0c463a3c",
   "metadata": {},
   "outputs": [
    {
     "data": {
      "text/plain": [
       "BaggingClassifier()"
      ]
     },
     "execution_count": 340,
     "metadata": {},
     "output_type": "execute_result"
    }
   ],
   "source": [
    "from sklearn.ensemble import BaggingClassifier as BC\n",
    "classifier=BC()\n",
    "classifier.fit(x_train,y_train)"
   ]
  },
  {
   "cell_type": "code",
   "execution_count": 341,
   "id": "04ca2a87",
   "metadata": {},
   "outputs": [],
   "source": [
    "from sklearn.linear_model import LogisticRegression as LR\n",
    "\n",
    "classifier = BC(base_estimator=LR(),\n",
    "               n_estimators=150,\n",
    "              n_jobs=-1,\n",
    "           random_state=42)\n",
    "classifier.fit(x_train,y_train)\n",
    "predicted_values=classifier.predict(x_train)"
   ]
  },
  {
   "cell_type": "code",
   "execution_count": 342,
   "id": "4ed0c1af",
   "metadata": {},
   "outputs": [
    {
     "name": "stdout",
     "output_type": "stream",
     "text": [
      "              precision    recall  f1-score   support\n",
      "\n",
      "           0       0.66      0.55      0.60       255\n",
      "           1       0.75      0.82      0.78       415\n",
      "\n",
      "    accuracy                           0.72       670\n",
      "   macro avg       0.70      0.69      0.69       670\n",
      "weighted avg       0.71      0.72      0.71       670\n",
      "\n"
     ]
    }
   ],
   "source": [
    "from sklearn.metrics import classification_report\n",
    "print(classification_report(y_train,predicted_values))"
   ]
  },
  {
   "cell_type": "code",
   "execution_count": 343,
   "id": "15fc20d2",
   "metadata": {},
   "outputs": [
    {
     "name": "stdout",
     "output_type": "stream",
     "text": [
      "              precision    recall  f1-score   support\n",
      "\n",
      "           0       0.65      0.54      0.59       254\n",
      "           1       0.74      0.83      0.78       416\n",
      "\n",
      "    accuracy                           0.72       670\n",
      "   macro avg       0.70      0.68      0.69       670\n",
      "weighted avg       0.71      0.72      0.71       670\n",
      "\n"
     ]
    }
   ],
   "source": [
    "predicted_values=classifier.predict(x_test)\n",
    "print(classification_report(y_test,predicted_values))"
   ]
  },
  {
   "cell_type": "markdown",
   "id": "da81dfe8",
   "metadata": {},
   "source": [
    "# Confusion matrix"
   ]
  },
  {
   "cell_type": "code",
   "execution_count": 344,
   "id": "db2dc21f",
   "metadata": {},
   "outputs": [
    {
     "data": {
      "text/plain": [
       "array([[136, 118],\n",
       "       [ 72, 344]])"
      ]
     },
     "execution_count": 344,
     "metadata": {},
     "output_type": "execute_result"
    }
   ],
   "source": [
    "from sklearn.metrics import confusion_matrix\n",
    "cf=confusion_matrix(y_test,predicted_values)\n",
    "cf"
   ]
  },
  {
   "cell_type": "markdown",
   "id": "ce45d4ce",
   "metadata": {},
   "source": [
    "1. Accuracy"
   ]
  },
  {
   "cell_type": "code",
   "execution_count": 345,
   "id": "454d5b48",
   "metadata": {},
   "outputs": [
    {
     "data": {
      "text/plain": [
       "0.7164179104477612"
      ]
     },
     "execution_count": 345,
     "metadata": {},
     "output_type": "execute_result"
    }
   ],
   "source": [
    "classifier.score(x_test,y_test)"
   ]
  },
  {
   "cell_type": "markdown",
   "id": "56483f18",
   "metadata": {},
   "source": [
    "2. Calculating the precision score"
   ]
  },
  {
   "cell_type": "code",
   "execution_count": 346,
   "id": "1750c4b1",
   "metadata": {},
   "outputs": [],
   "source": [
    "from sklearn.metrics import precision_recall_fscore_support as PRF_summary\n",
    "precision,recall,f1,support=PRF_summary(y_test,predicted_values)"
   ]
  },
  {
   "cell_type": "code",
   "execution_count": 347,
   "id": "403c2521",
   "metadata": {},
   "outputs": [
    {
     "data": {
      "text/plain": [
       "array([0.65384615, 0.74458874])"
      ]
     },
     "execution_count": 347,
     "metadata": {},
     "output_type": "execute_result"
    }
   ],
   "source": [
    "precision"
   ]
  },
  {
   "cell_type": "code",
   "execution_count": 348,
   "id": "307cb9dd",
   "metadata": {},
   "outputs": [
    {
     "data": {
      "text/plain": [
       "array([0.53543307, 0.82692308])"
      ]
     },
     "execution_count": 348,
     "metadata": {},
     "output_type": "execute_result"
    }
   ],
   "source": [
    "recall"
   ]
  },
  {
   "cell_type": "code",
   "execution_count": 349,
   "id": "9e0f9be3",
   "metadata": {},
   "outputs": [
    {
     "data": {
      "text/plain": [
       "array([0.58874459, 0.78359909])"
      ]
     },
     "execution_count": 349,
     "metadata": {},
     "output_type": "execute_result"
    }
   ],
   "source": [
    "f1"
   ]
  },
  {
   "cell_type": "code",
   "execution_count": 350,
   "id": "793ec321",
   "metadata": {},
   "outputs": [
    {
     "data": {
      "text/plain": [
       "array([254, 416])"
      ]
     },
     "execution_count": 350,
     "metadata": {},
     "output_type": "execute_result"
    }
   ],
   "source": [
    "support #support is nothing but the no of instances for class 1 and class 0"
   ]
  },
  {
   "cell_type": "markdown",
   "id": "f1fe56ef",
   "metadata": {},
   "source": [
    "Only for representation"
   ]
  },
  {
   "cell_type": "code",
   "execution_count": 351,
   "id": "038b3943",
   "metadata": {},
   "outputs": [
    {
     "name": "stdout",
     "output_type": "stream",
     "text": [
      "              precision    recall  f1-score   support\n",
      "\n",
      "           0       0.37      0.30      0.33       255\n",
      "           1       0.61      0.68      0.65       415\n",
      "\n",
      "    accuracy                           0.54       670\n",
      "   macro avg       0.49      0.49      0.49       670\n",
      "weighted avg       0.52      0.54      0.53       670\n",
      "\n"
     ]
    }
   ],
   "source": [
    "from sklearn.metrics import classification_report\n",
    "k=classification_report(y_train,predicted_values)\n",
    "print(k)"
   ]
  },
  {
   "cell_type": "code",
   "execution_count": 352,
   "id": "508bf904",
   "metadata": {},
   "outputs": [
    {
     "name": "stdout",
     "output_type": "stream",
     "text": [
      "              precision    recall  f1-score   support\n",
      "\n",
      "           0       0.65      0.54      0.59       254\n",
      "           1       0.74      0.83      0.78       416\n",
      "\n",
      "    accuracy                           0.72       670\n",
      "   macro avg       0.70      0.68      0.69       670\n",
      "weighted avg       0.71      0.72      0.71       670\n",
      "\n"
     ]
    }
   ],
   "source": [
    "from sklearn.metrics import classification_report\n",
    "k=classification_report(y_test,predicted_values)\n",
    "print(k)"
   ]
  },
  {
   "cell_type": "markdown",
   "id": "203a9726",
   "metadata": {},
   "source": [
    "# Precision-Recall Curve-Bagging"
   ]
  },
  {
   "cell_type": "code",
   "execution_count": 353,
   "id": "966a537a",
   "metadata": {},
   "outputs": [
    {
     "data": {
      "text/plain": [
       "((654,), (654,), (653,))"
      ]
     },
     "execution_count": 353,
     "metadata": {},
     "output_type": "execute_result"
    }
   ],
   "source": [
    "#gathering Precision/recall scores from different threshold\n",
    "from sklearn.metrics import precision_recall_curve\n",
    "precision_points,recall_points,threshold_points=precision_recall_curve(y_test,predicted_probabilities[:,1])\n",
    "precision_points.shape,recall_points.shape,threshold_points.shape"
   ]
  },
  {
   "cell_type": "code",
   "execution_count": 354,
   "id": "52b87414",
   "metadata": {},
   "outputs": [
    {
     "data": {
      "text/plain": [
       "<matplotlib.legend.Legend at 0x7fecf815de20>"
      ]
     },
     "execution_count": 354,
     "metadata": {},
     "output_type": "execute_result"
    },
    {
     "data": {
      "image/png": "[encoded data removed]",
      "text/plain": [
       "<Figure size 700x500 with 1 Axes>"
      ]
     },
     "metadata": {
      "needs_background": "light"
     },
     "output_type": "display_data"
    }
   ],
   "source": [
    "#compare if threshold is less than precision & recall \n",
    "#if less -1 minus in plotting\n",
    "plt.figure(figsize=(7,5),dpi=100)\n",
    "plt.plot(threshold_points,precision_points[:-1],color='green',label='Precision')\n",
    "plt.plot(threshold_points,recall_points[:-1],color='orange',label='Recall')\n",
    "plt.xlabel('Threshold Points',fontsize=15)\n",
    "plt.ylabel('Score',fontsize=15)\n",
    "plt.title('Precision-Recall tradeoff',fontsize=20)\n",
    "plt.legend()"
   ]
  },
  {
   "cell_type": "markdown",
   "id": "314e36ee",
   "metadata": {},
   "source": [
    "# AUC-ROC Curve-Bagging"
   ]
  },
  {
   "cell_type": "code",
   "execution_count": 355,
   "id": "ab51bab2",
   "metadata": {},
   "outputs": [
    {
     "data": {
      "image/png": "[encoded data removed]",
      "text/plain": [
       "<Figure size 700x500 with 1 Axes>"
      ]
     },
     "metadata": {
      "needs_background": "light"
     },
     "output_type": "display_data"
    },
    {
     "data": {
      "text/plain": [
       "0.7474021426408237"
      ]
     },
     "execution_count": 355,
     "metadata": {},
     "output_type": "execute_result"
    }
   ],
   "source": [
    "from sklearn.metrics import roc_curve,roc_auc_score\n",
    "fpr,tpr,threshold=roc_curve(y_test,predicted_probabilities[:,1])\n",
    "plt.figure(figsize=(7,5),dpi=100)\n",
    "plt.plot(fpr,tpr,color='green')\n",
    "plt.plot([0,1],[0,1],label='baseline',color='red')\n",
    "plt.xlabel('FPR',fontsize=15)\n",
    "plt.ylabel('TPR',fontsize=15)\n",
    "plt.title('AUC-ROC',fontsize=20)\n",
    "plt.show()\n",
    "roc_auc_score(y_test,predicted_probabilities[:,1])"
   ]
  },
  {
   "cell_type": "markdown",
   "id": "cbc8fc9d",
   "metadata": {},
   "source": [
    "# Random Forest"
   ]
  },
  {
   "cell_type": "code",
   "execution_count": 356,
   "id": "53f8fe3f",
   "metadata": {},
   "outputs": [],
   "source": [
    "from sklearn.ensemble import RandomForestClassifier as RFC"
   ]
  },
  {
   "cell_type": "code",
   "execution_count": 357,
   "id": "385ba9df",
   "metadata": {},
   "outputs": [
    {
     "name": "stdout",
     "output_type": "stream",
     "text": [
      "              precision    recall  f1-score   support\n",
      "\n",
      "           0       1.00      0.99      0.99       255\n",
      "           1       1.00      1.00      1.00       415\n",
      "\n",
      "    accuracy                           1.00       670\n",
      "   macro avg       1.00      0.99      1.00       670\n",
      "weighted avg       1.00      1.00      1.00       670\n",
      "\n"
     ]
    }
   ],
   "source": [
    "classifier=RFC()\n",
    "classifier.fit(x_train,y_train)\n",
    "predicted_values=classifier.predict(x_train)\n",
    "from sklearn.metrics import classification_report\n",
    "print(classification_report(y_train,predicted_values))"
   ]
  },
  {
   "cell_type": "code",
   "execution_count": 358,
   "id": "dd7efcd1",
   "metadata": {},
   "outputs": [
    {
     "name": "stdout",
     "output_type": "stream",
     "text": [
      "              precision    recall  f1-score   support\n",
      "\n",
      "           0       0.64      0.50      0.56       254\n",
      "           1       0.73      0.83      0.78       416\n",
      "\n",
      "    accuracy                           0.70       670\n",
      "   macro avg       0.68      0.66      0.67       670\n",
      "weighted avg       0.70      0.70      0.69       670\n",
      "\n"
     ]
    }
   ],
   "source": [
    "predicted_values=classifier.predict(x_test)\n",
    "print(classification_report(y_test,predicted_values))"
   ]
  },
  {
   "cell_type": "code",
   "execution_count": 359,
   "id": "22c94641",
   "metadata": {},
   "outputs": [],
   "source": [
    "#calc_score to take model and the data and return the performance of the model"
   ]
  },
  {
   "cell_type": "code",
   "execution_count": 360,
   "id": "cf691262",
   "metadata": {},
   "outputs": [],
   "source": [
    "from sklearn.metrics import f1_score\n",
    "def calc_score(model,x1,y1,x2,y2):\n",
    " model.fit(x1,y1)\n",
    " predict=model.predict(x1)\n",
    " f1=f1_score(y1,predict)\n",
    " predict=model.predict(x2)\n",
    " f2=f1_score(y2,predict)\n",
    " return f1,f2"
   ]
  },
  {
   "cell_type": "code",
   "execution_count": 361,
   "id": "d42e6d8a",
   "metadata": {},
   "outputs": [],
   "source": [
    "#effect to visualize how the different values of the parameter affect the performance of the model"
   ]
  },
  {
   "cell_type": "code",
   "execution_count": 362,
   "id": "dabb56b2",
   "metadata": {},
   "outputs": [],
   "source": [
    "def effect(train_score,test_score,x_axis,title):\n",
    "    plt.figure(figsize=(7,4),dpi=120)\n",
    "    plt.plot(x_axis,train_score,color='red',label='train_Score')\n",
    "    plt.plot(x_axis,test_score,color='blue',label='test_Score')\n",
    "    plt.title(title)\n",
    "    plt.legend()\n",
    "    plt.xlabel(\"parameter_value\")\n",
    "    plt.ylabel(\"f1_score\")\n",
    "    plt.show()"
   ]
  },
  {
   "cell_type": "code",
   "execution_count": 363,
   "id": "bcf08ec0",
   "metadata": {},
   "outputs": [
    {
     "data": {
      "text/plain": [
       "RandomForestClassifier()"
      ]
     },
     "execution_count": 363,
     "metadata": {},
     "output_type": "execute_result"
    }
   ],
   "source": [
    "classifier=RFC()\n",
    "classifier.fit(x_train,y_train)"
   ]
  },
  {
   "cell_type": "code",
   "execution_count": 364,
   "id": "c292b757",
   "metadata": {},
   "outputs": [],
   "source": [
    "estimators=[i for i in range(1,600,10)]\n",
    "train=[]\n",
    "test=[]\n",
    "for i in estimators:\n",
    "    model=RFC(class_weight='balanced_subsample',\n",
    "             n_estimators=i,\n",
    "             n_jobs=-1,\n",
    "             max_depth=7,\n",
    "             random_state=101)\n",
    "    f1,f2=calc_score(model,x_train,y_train,x_test,y_test)\n",
    "    train.append(f1)\n",
    "    test.append(f2)"
   ]
  },
  {
   "cell_type": "code",
   "execution_count": 365,
   "id": "a0193f82",
   "metadata": {},
   "outputs": [
    {
     "data": {
      "image/png": "[encoded data removed]",
      "text/plain": [
       "<Figure size 840x480 with 1 Axes>"
      ]
     },
     "metadata": {
      "needs_background": "light"
     },
     "output_type": "display_data"
    }
   ],
   "source": [
    "effect(train,test,range(1,600,10),'n_estimators')"
   ]
  },
  {
   "cell_type": "markdown",
   "id": "0662d8ce",
   "metadata": {},
   "source": [
    "# max_samples"
   ]
  },
  {
   "cell_type": "code",
   "execution_count": 366,
   "id": "6fc3ca53",
   "metadata": {},
   "outputs": [],
   "source": [
    "maxsamples=[i/1000 for i in range(1,1000)]\n",
    "train=[]\n",
    "test=[]\n",
    "\n",
    "for i in maxsamples:\n",
    "    model=RFC(class_weight=\"balanced_subsample\",n_estimators=50,\n",
    "             n_jobs=-1,max_depth=7,random_state=101,max_samples=i)\n",
    "    f1,f2=calc_score(model,x_train,y_train,x_test,y_test)\n",
    "    train.append(f1)\n",
    "    test.append(f2)"
   ]
  },
  {
   "cell_type": "code",
   "execution_count": 367,
   "id": "dbfe805c",
   "metadata": {},
   "outputs": [
    {
     "data": {
      "image/png": "[encoded data removed]",
      "text/plain": [
       "<Figure size 840x480 with 1 Axes>"
      ]
     },
     "metadata": {
      "needs_background": "light"
     },
     "output_type": "display_data"
    }
   ],
   "source": [
    "effect(train,test,maxsamples,'bootstrap sample fraction')"
   ]
  },
  {
   "cell_type": "markdown",
   "id": "2c8eec6e",
   "metadata": {},
   "source": [
    "# max_features"
   ]
  },
  {
   "cell_type": "code",
   "execution_count": 368,
   "id": "45188113",
   "metadata": {},
   "outputs": [],
   "source": [
    "maxfeatures=range(1,X.shape[1])\n",
    "train=[]\n",
    "test=[]\n",
    "\n",
    "for i in maxfeatures:\n",
    " model=RFC(class_weight=\"balanced_subsample\",n_estimators=50,\n",
    "             n_jobs=-1,max_depth=7,random_state=101,max_features=i)\n",
    " f1,f2=calc_score(model,x_train,y_train,x_test,y_test)\n",
    " train.append(f1)\n",
    " test.append(f2)"
   ]
  },
  {
   "cell_type": "code",
   "execution_count": 369,
   "id": "0818e26e",
   "metadata": {},
   "outputs": [
    {
     "data": {
      "image/png": "[encoded data removed]",
      "text/plain": [
       "<Figure size 840x480 with 1 Axes>"
      ]
     },
     "metadata": {
      "needs_background": "light"
     },
     "output_type": "display_data"
    }
   ],
   "source": [
    "effect(train,test,maxfeatures,'number of max features for individual tree')"
   ]
  },
  {
   "cell_type": "code",
   "execution_count": 129,
   "id": "884560bf",
   "metadata": {},
   "outputs": [],
   "source": [
    "#default parameter value=sqrt(number of features present in the dataset)"
   ]
  },
  {
   "cell_type": "code",
   "execution_count": 137,
   "id": "6c35db14",
   "metadata": {},
   "outputs": [],
   "source": [
    "#perform regularization to reduce overfitting spotted in maxfeatures"
   ]
  },
  {
   "cell_type": "code",
   "execution_count": null,
   "id": "712751c4",
   "metadata": {},
   "outputs": [],
   "source": []
  }
 ],
 "metadata": {
  "kernelspec": {
   "display_name": "Python 3",
   "language": "python",
   "name": "python3"
  },
  "language_info": {
   "codemirror_mode": {
    "name": "ipython",
    "version": 3
   },
   "file_extension": ".py",
   "mimetype": "text/x-python",
   "name": "python",
   "nbconvert_exporter": "python",
   "pygments_lexer": "ipython3",
   "version": "3.8.8"
  }
 },
 "nbformat": 4,
 "nbformat_minor": 5
}
